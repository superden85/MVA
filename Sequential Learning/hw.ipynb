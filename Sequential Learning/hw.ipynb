{
 "cells": [
  {
   "attachments": {},
   "cell_type": "markdown",
   "metadata": {},
   "source": [
    "# Sequential learning Homework"
   ]
  },
  {
   "attachments": {},
   "cell_type": "markdown",
   "metadata": {},
   "source": [
    "# Part 1 : Bandit convex optimisation"
   ]
  },
  {
   "attachments": {},
   "cell_type": "markdown",
   "metadata": {},
   "source": [
    "# Question 1"
   ]
  },
  {
   "attachments": {},
   "cell_type": "markdown",
   "metadata": {},
   "source": [
    "The adversary is oblivious in this setting. In fact the losses are chosen before the games begins, so the environment cannot adapt to the decisions made by the player."
   ]
  },
  {
   "attachments": {},
   "cell_type": "markdown",
   "metadata": {},
   "source": [
    "# Question 2"
   ]
  },
  {
   "attachments": {},
   "cell_type": "markdown",
   "metadata": {},
   "source": [
    "The regret is defined as : $R_T = \\sum_{t=1}^T l_t(\\theta_t) - inf_{\\theta \\in \\Theta} \\sum_{t=1}^T l_t(\\theta)$."
   ]
  },
  {
   "attachments": {},
   "cell_type": "markdown",
   "metadata": {},
   "source": [
    "# Question 3.a)"
   ]
  },
  {
   "attachments": {},
   "cell_type": "markdown",
   "metadata": {},
   "source": [
    "When $d = 1$, $\\mathbb{S}_1 = \\{-1, 1\\}$. So the LHS term is in fact $\\mathbb{E}_{u_t}[\\frac{d}{\\delta}l_t(\\hat{\\theta}_t +\\delta u_t)u_t] = \\frac{1}{2\\delta}[l_t(\\hat{\\theta}_t + \\delta) - l_t(\\hat{\\theta}_t - \\delta)]$. \\\n",
    "The RHS term is the limit of the derivative rate of $\\hat{l_t}$ at $\\hat{\\theta}_t$:\n",
    "$$\\nabla{\\hat{l}_t}(\\hat{\\theta}_t) = \\lim_{h \\rightarrow 0} \\frac{1}{\\delta h} (\\hat{l_t}(\\hat{\\theta}_t + \\delta h) - \\hat{l_t}(\\hat{\\theta}_t))$$\n",
    "$$\\nabla{\\hat{l}_t}(\\hat{\\theta}_t) = \\lim_{h \\rightarrow 0} \\frac{1}{\\delta h} (\\frac{1}{2}\\int_{-1}^1 l_t(\\hat{\\theta}_t + \\delta v + \\delta h)dv - \\frac{1}{2}\\int_{-1}^1 l_t(\\hat{\\theta}_t + \\delta v)dv)$$\n",
    "We change the variables $v' = \\delta v + \\delta h$ and $v' = \\delta v$ in the two integrals:\n",
    "$$\\nabla{\\hat{l}_t}(\\hat{\\theta}_t) = \\lim_{h \\rightarrow 0} \\frac{1}{\\delta h} (\\frac{1}{2\\delta}\\int_{-\\delta + \\delta h}^{\\delta + \\delta h} l_t(\\hat{\\theta}_t + v)dv - \\frac{1}{2\\delta}\\int_{-\\delta}^{\\delta} l_t(\\hat{\\theta}_t + v)dv)$$\n",
    "\n",
    "$$\\nabla{\\hat{l}_t}(\\hat{\\theta}_t) = \\lim_{h \\rightarrow 0} \\frac{1}{\\delta h} (\\frac{1}{2\\delta}\\int_{\\delta}^{\\delta + \\delta h} l_t(\\hat{\\theta}_t + v)dv - \\frac{1}{2\\delta}\\int_{-\\delta}^{-\\delta + \\delta h} l_t(\\hat{\\theta}_t + v)dv)$$\n",
    "\n",
    "Then it is quite easy to show that $\\lim_{h \\rightarrow 0} \\frac{1}{\\delta h} \\int_{\\delta}^{\\delta + \\delta h} l_t(\\hat{\\theta}_t + v)dv = l_t(\\hat{\\theta}_t + \\delta)$ and $\\lim_{h \\rightarrow 0} \\frac{1}{\\delta h} \\int_{-\\delta}^{-\\delta + \\delta h} l_t(\\hat{\\theta}_t + v)dv = l_t(\\hat{\\theta}_t - \\delta)$\n",
    "\n",
    "\n",
    "Hence :\n",
    "$$\\boxed{\\mathbb{E}_{u_t}[\\frac{d}{\\delta}l_t(\\hat{\\theta}_t +\\delta u_t)u_t] = \\nabla{\\hat{l}_t(\\hat{\\theta}_t)}}$$\n"
   ]
  },
  {
   "attachments": {},
   "cell_type": "markdown",
   "metadata": {},
   "source": [
    "# Question 3.b)"
   ]
  },
  {
   "attachments": {},
   "cell_type": "markdown",
   "metadata": {},
   "source": [
    "Because the losses are not necessarily differentiable, we should use this version of Lipschitz functions: $|l_t(x) - l_t(y)| \\leq G ||x - y||$. \\\n",
    "Let $\\theta \\in \\Theta_{\\delta}$ :\n",
    "$$|\\hat{l}_t(\\theta) - l_t(\\theta)| = |\\mathbb{E}_v[l_t(\\theta + \\delta v) - l_t(\\theta)]|$$\n",
    "Using Jensen's inequality with the $|\\cdot|$ function:\n",
    "$$|\\hat{l}_t(\\theta) - l_t(\\theta)| \\leq \\mathbb{E}_v[|l_t(\\theta + \\delta v) - l_t(\\theta)|]$$\n",
    "Using that $l_t$ is $G$-Lipschitz:\n",
    "$$|\\hat{l}_t(\\theta) - l_t(\\theta)| \\leq \\mathbb{E}_v[G||\\delta v||] = G\\delta \\mathbb{E}_v[||v||] \\leq G\\delta$$\n",
    "Hence:\n",
    "$$\\boxed{|\\hat{l}_t(\\theta) - l_t(\\theta)| \\leq G\\delta}$$"
   ]
  },
  {
   "attachments": {},
   "cell_type": "markdown",
   "metadata": {},
   "source": [
    "# Question 4.a)"
   ]
  },
  {
   "attachments": {},
   "cell_type": "markdown",
   "metadata": {},
   "source": [
    "We have for every $\\theta \\in \\Theta_\\delta$:\n",
    "$$\\nabla{h}_t(\\theta) = \\nabla{\\hat{l}_t(\\theta)} + \\xi_t $$\n",
    "We can show that $\\theta_t^{OGD} = \\hat{\\theta}_t$ for every $t$, under the conidtion that we initialize OGD with $\\theta_1^{OGD} = 0$. In fact, this can be easily shown by induction because the equality at time $t$ implies that the 'gradient' update is the same $\\nabla{h}_t(\\hat{\\theta}_t) = \\frac{d}{\\delta}l_t(\\theta_t)u_t$, so the equality still stands at time $t+1$."
   ]
  },
  {
   "attachments": {},
   "cell_type": "markdown",
   "metadata": {},
   "source": [
    "# Question 4.b)"
   ]
  },
  {
   "attachments": {},
   "cell_type": "markdown",
   "metadata": {},
   "source": [
    "We should use the result from the course on OGD, applied to the sequence of losses $h_t$. We can use the same diameter $D$ defined for $\\Theta$ because $\\Theta_\\delta \\subset \\Theta$ (because $0 \\in \\Theta$). We have to find a Lipschitz constant for $h_t$. In the proof the Lipschitz constant is only used to bound $||\\nabla{h}_t(\\theta_t)||$. Because $\\theta_t^{OGD} = \\hat{\\theta}_t$, we have $\\nabla{h}_t(\\hat{\\theta}_t) = \\frac{d}{\\delta}l_t(\\theta_t)u_t$ and hence:\n",
    "\n",
    "$$ ||\\nabla{h}_t(\\theta_t)|| \\leq \\frac{d^2}{\\delta ^2} $$.\n",
    "\n",
    "Using the result from the course on OGD:\n",
    "\n",
    "$$\\boxed{\\sum_{t=1}^T h_t(\\hat{\\theta}_t) - h_t(\\theta_\\delta^*)\\leq \\eta \\frac{d^2}{2\\delta^2} T + \\frac{D^2}{2\\eta}} $$\n"
   ]
  },
  {
   "attachments": {},
   "cell_type": "markdown",
   "metadata": {},
   "source": [
    "# Question 4.c)"
   ]
  },
  {
   "attachments": {},
   "cell_type": "markdown",
   "metadata": {},
   "source": [
    "Taking the expectation of the above equality:\n",
    "$$\\sum_{t=1}^T \\mathbb{E}[h_t(\\hat{\\theta}_t)] - \\mathbb{E}[h_t(\\theta_\\delta^*)] \\leq \\eta \\frac{d^2}{2\\delta^2} T + \\frac{D^2}{2\\eta} $$\n",
    "We have:\n",
    "$$\\mathbb{E}[h_t(\\hat{\\theta}_t)] = \\mathbb{E}[\\hat{l}_t(\\hat{\\theta}_t)] + \\mathbb{E}[<\\frac{d}{\\delta}l_t(\\theta_t)u_t, \\hat{\\theta}_t>] - \\mathbb{E}[<\\nabla{\\hat{l}_t(\\hat{\\theta}_t)}, \\hat{\\theta}_t>]$$\n",
    "\n",
    "Because $\\hat{\\theta}_t$ depends only on $u_1, ..., u_{t-1}$, we should make appear the conditional expectation w.r.t. $u_1, ..., u_{t-1}$ in the term $\\mathbb{E}[<\\frac{d}{\\delta}l_t(\\theta_t)u_t, \\hat{\\theta}_t>]$:\n",
    "\n",
    "$$\\mathbb{E}[<\\frac{d}{\\delta}l_t(\\theta_t)u_t, \\hat{\\theta}_t>] = \\mathbb{E}[\\mathbb{E}[<\\frac{d}{\\delta}l_t(\\theta_t)u_t, \\hat{\\theta}_t>|u_1, ..., u_{t-1}]] = \\mathbb{E}[<\\mathbb{E}[\\frac{d}{\\delta}l_t(\\theta_t)u_t|u_1, ..., u_{t-1}], \\hat{\\theta}_t>]$$\n",
    "\n",
    "Using the result of question 3.a):\n",
    "\n",
    "$$\\mathbb{E}[\\frac{d}{\\delta}l_t(\\theta_t)u_t|u_1, ..., u_{t-1}] = \\nabla{\\hat{l}_t}(\\hat{\\theta_t})$$\n",
    "\n",
    "So :\n",
    "\n",
    "$$\\mathbb{E}[<\\frac{d}{\\delta}l_t(\\theta_t)u_t, \\hat{\\theta}_t>] = \\mathbb{E}[<\\nabla{\\hat{l}_t}(\\hat{\\theta_t}), \\hat{\\theta}_t>]$$\n",
    "\n",
    "Thus two terms cancel in the expectation so :\n",
    "\n",
    "$$\\mathbb{E}[h_t(\\hat{\\theta}_t)] = \\mathbb{E}[\\hat{l}_t(\\hat{\\theta}_t)]$$\n",
    "\n",
    "By the same arguments, we can show that : $\\mathbb{E}[h_t(\\theta_\\delta^*)] = \\hat{l}_t(\\theta_\\delta^*)$\n",
    "\n",
    "So :\n",
    "\n",
    "$$\\boxed{\\sum_{t=1}^T \\mathbb{E}[\\hat{l}_t(\\hat{\\theta}_t)] - \\hat{l}_t(\\theta_\\delta^*) \\leq \\eta \\frac{d^2}{2\\delta^2} T + \\frac{D^2}{2\\eta}}$$\n"
   ]
  },
  {
   "attachments": {},
   "cell_type": "markdown",
   "metadata": {},
   "source": [
    "# Question 5"
   ]
  },
  {
   "attachments": {},
   "cell_type": "markdown",
   "metadata": {},
   "source": [
    "Let $\\theta^* \\in \\Theta, \\theta_\\delta^* \\in \\Theta_\\delta$:\n",
    "\n",
    "$$R_T(\\theta^*) = \\sum_{t=1}^T l_t(\\theta_t) - l_t(\\theta^*)$$\n",
    "\n",
    "$$R_T(\\theta^*) = \\sum_{t=1}^T (l_t(\\theta_t) - l_t(\\hat{\\theta}_t)) + (l_t(\\hat{\\theta}_t) - \\hat{l}_t(\\hat{\\theta}_t)) - (l_t(\\theta^*) - l_t(\\theta_\\delta^*)) - (l_t(\\theta_\\delta^*) - \\hat{l}_t(\\theta_\\delta^*)) + \\hat{l}_t(\\hat{\\theta}_t) - \\hat{l}_t(\\theta_\\delta^*)$$\n",
    "\n",
    "By taking $\\theta_\\delta^* = (1-\\delta)\\theta^*$, so that $||\\theta_\\delta^* -  \\theta^*|| = \\delta ||\\theta^*|| \\leq \\delta D$, we can upper bound the four terms in parenthesis with the G-Lipshchitz hypothesis and the result of question 3.b):\n",
    "\n",
    "$$R_T(\\theta^*) \\leq 3G\\delta T + G\\delta DT + \\sum_{t=1}^T \\hat{l}_t(\\hat{\\theta}_t) - \\hat{l}_t((1-\\delta) \\theta^*)$$\n",
    "\n",
    "We take the sup w.r.t. $\\theta^*$:\n",
    "$$R_T \\leq 3G\\delta T + G\\delta DT + \\sum_{t=1}^T \\hat{l}_t(\\hat{\\theta}_t) - inf_{\\theta^* \\in \\Theta}\\hat{l}_t((1-\\delta) \\theta^*)$$\n",
    "Now we take the expectation:\n",
    "$$\\mathbb{E}[R_T] \\leq 3G\\delta T + G\\delta DT + \\sum_{t=1}^T \\mathbb{E}[\\hat{l}_t(\\hat{\\theta}_t)] - inf_{\\theta^* \\in \\Theta}\\hat{l}_t((1-\\delta) \\theta^*)$$\n",
    "\n",
    "Using the result of the previous question, we can upper bound the sum in the RHS term:\n",
    "\n",
    "$$\\mathbb{E}[R_T] \\leq 3G\\delta T + G\\delta DT + \\eta \\frac{d^2}{2\\delta^2} T + \\frac{D^2}{2\\eta}$$\n",
    "\n",
    "Because $\\Theta$ contains the unit ball, $D \\geq 2$ so :\n",
    "\n",
    "$$\\boxed{\\mathbb{E}[R_T] \\leq 4G\\delta DT + \\eta \\frac{d^2}{\\delta^2} T + \\frac{D^2}{\\eta}}$$\n"
   ]
  },
  {
   "attachments": {},
   "cell_type": "markdown",
   "metadata": {},
   "source": [
    "# Question 6"
   ]
  },
  {
   "attachments": {},
   "cell_type": "markdown",
   "metadata": {},
   "source": [
    "We should minimize the power of $T$ in the RHS term. Let's say $a, b$ are the powers of T in $\\delta$ and $\\eta$ respectively. The power of $T$ in the RHS term is equal to $\\max(1+b-2a, -b, 1+a)$. \\\n",
    "Let's fix $a$. The third term in the max is constant w.r.t. $b$ so we have to minimize $max(1+b-2a, -b)$ which is obtained when these lines intersect at $b = a - 0.5$. So the minimum is $max(0.5-a, 1+a)$. Then, again, this quantity is minimal when these two lines with opposite slopes intersect at $a = -\\frac{1}{4}$. Thus $b = -\\frac{3}{4}$. \\\n",
    "Let's say that $\\delta = K_1 T^a$ and $\\eta = K_2 T^b$. We set the three terms in the RHS equal :\n",
    "$$4GK_1D = K_2\\frac{d^2}{K_1^2}, 4GK_1D = \\frac{D^2}{K_2}$$\n",
    "\n",
    "We get:\n",
    "\n",
    "$$\\boxed{\\delta = \\sqrt{\\frac{d}{4G}}T^{-\\frac{1}{4}}}$$\n",
    "$$\\boxed{\\eta = \\frac{D}{\\sqrt{4Gd}}T^{-\\frac{3}{4}}}$$\n",
    "$$\\boxed{\\mathbb{E}[R_T] \\leq 6\\sqrt{Gd}DT^{\\frac{3}{4}}}$$"
   ]
  },
  {
   "attachments": {},
   "cell_type": "markdown",
   "metadata": {},
   "source": [
    "# Question 7.a)"
   ]
  },
  {
   "cell_type": "code",
   "execution_count": 120,
   "metadata": {},
   "outputs": [],
   "source": [
    "import numpy as np\n",
    "import matplotlib.pyplot as plt\n",
    "from math import ceil"
   ]
  },
  {
   "cell_type": "code",
   "execution_count": 194,
   "metadata": {},
   "outputs": [],
   "source": [
    "def OGD(T=1000, d=2, D = 2, nruns = 1, theta_0=None,):\n",
    "\n",
    "    theta_star = 0.5/np.arange(1, d+1)\n",
    "    x = np.random.multivariate_normal(np.zeros(d), np.eye(d), T)\n",
    "    epsilon = np.random.normal(0, np.sqrt(0.1), T)\n",
    "    y = x @ theta_star + epsilon\n",
    "\n",
    "    cum_regrets = []\n",
    "\n",
    "    #we compute a Lipschitz constant for the gradient of the loss\n",
    "    G = 2*np.max(np.linalg.norm(x, axis=1) * (np.linalg.norm(x, axis=1) + np.abs(y)))\n",
    "\n",
    "    #we use the theoretical value of the step size\n",
    "    eta = D/(G*np.sqrt(T))\n",
    "\n",
    "    def loss(t, theta):\n",
    "        return (y[t] - np.dot(x[t], theta))**2\n",
    "    \n",
    "    def grad_loss(t, theta):\n",
    "        return -2 * x[t] * (y[t] - np.dot(x[t], theta))\n",
    "\n",
    "    #projection onto the ball\n",
    "    def projection(theta):\n",
    "        a = np.linalg.norm(theta)\n",
    "        return theta if a < 1 else theta/a\n",
    "    \n",
    "    for _ in range(nruns):\n",
    "        regret = []\n",
    "        \n",
    "        #initialization of theta\n",
    "        if theta_0 is None:\n",
    "            theta_0 = np.zeros(d)\n",
    "        \n",
    "        #main loop\n",
    "        theta = theta_0\n",
    "        for t in range(T):\n",
    "            #select theta and incur loss\n",
    "            regret.append(loss(t, theta) - loss(t, theta_star))\n",
    "\n",
    "            #update theta\n",
    "            theta = projection(theta - eta * grad_loss(t, theta))\n",
    "        \n",
    "        cum_regrets.append(np.cumsum(regret))\n",
    "        \n",
    "    return np.array(cum_regrets)\n"
   ]
  },
  {
   "cell_type": "code",
   "execution_count": 196,
   "metadata": {},
   "outputs": [
    {
     "data": {
      "image/png": "[encoded data removed]",
      "text/plain": [
       "<Figure size 432x288 with 1 Axes>"
      ]
     },
     "metadata": {
      "needs_background": "light"
     },
     "output_type": "display_data"
    }
   ],
   "source": [
    "#testing OGD\n",
    "cum_regrets = OGD()\n",
    "plt.plot(cum_regrets[0], label=\"OGD\")\n",
    "plt.xlabel(\"t\")\n",
    "plt.ylabel(\"regret\")\n",
    "plt.title(\"Cumulative regret of OGD\")\n",
    "plt.legend()\n",
    "plt.show()"
   ]
  },
  {
   "cell_type": "code",
   "execution_count": 200,
   "metadata": {},
   "outputs": [],
   "source": [
    "def OGD_wg(T=5000, d=2, D=2, nruns = 100, theta_hat_0 = None):\n",
    "    \n",
    "    theta_star = 0.5/np.arange(1, d+1)\n",
    "    x = np.random.multivariate_normal(np.zeros(d), np.eye(d), T)\n",
    "    epsilon = np.random.normal(0, np.sqrt(0.1), T)\n",
    "    y = x @ theta_star + epsilon\n",
    "\n",
    "    cum_regrets = []\n",
    "\n",
    "    #we compute a Lipschitz constant for the gradient of the loss\n",
    "    G = 2*np.max(np.linalg.norm(x, axis=1) * (np.linalg.norm(x, axis=1) + np.abs(y)))\n",
    "\n",
    "    #we use the theoretical values of delta and eta\n",
    "    delta = np.sqrt(d/(4*G))*T**(-1/4)\n",
    "    eta = D / np.sqrt(4*G*d) * T ** (-3/4)\n",
    "\n",
    "\n",
    "    def loss(t, theta):\n",
    "        return (y[t] - np.dot(x[t], theta))**2\n",
    "\n",
    "    #projection onto the ball\n",
    "    def projection(theta):\n",
    "        a = np.linalg.norm(theta)/(1-delta)\n",
    "        return theta if a < 1 else theta/a\n",
    "    \n",
    "    for _ in range(nruns):\n",
    "        \n",
    "        regret = []\n",
    "\n",
    "        #initialization of theta\n",
    "        if theta_hat_0 is None:\n",
    "            theta_hat_0 = np.zeros(d)\n",
    "\n",
    "        theta_hat = theta_hat_0\n",
    "\n",
    "        for t in range(T):\n",
    "            #draw u_t uniformly at random on the unit sphere\n",
    "            u = np.random.normal(0, 1, d)\n",
    "            u = u / np.linalg.norm(u)\n",
    "\n",
    "            #play theta and incur loss\n",
    "            theta = theta_hat + delta * u\n",
    "            regret.append(loss(t, theta) - loss(t, theta_star))\n",
    "\n",
    "            #update theta_hat\n",
    "            grad = d/delta * loss(t, theta) * u\n",
    "            theta_hat = projection(theta_hat - eta * grad)\n",
    "        \n",
    "        cum_regrets.append(np.cumsum(regret))\n",
    "\n",
    "    return np.array(cum_regrets)"
   ]
  },
  {
   "cell_type": "code",
   "execution_count": 205,
   "metadata": {},
   "outputs": [
    {
     "data": {
      "image/png": "[encoded data removed]",
      "text/plain": [
       "<Figure size 432x288 with 1 Axes>"
      ]
     },
     "metadata": {
      "needs_background": "light"
     },
     "output_type": "display_data"
    }
   ],
   "source": [
    "#testing OGD_wg (without gradients)\n",
    "cum_regrets = OGD_wg(T=1000, nruns=100)\n",
    "\n",
    "#plot the mean cumulative regret with standard deviation window\n",
    "plt.plot(np.mean(cum_regrets, axis=0), label='OGD_wg')\n",
    "plt.fill_between(np.arange(cum_regrets[0].shape[0]), np.mean(cum_regrets, axis=0) - np.std(cum_regrets, axis=0), np.mean(cum_regrets, axis=0) + np.std(cum_regrets, axis=0), alpha=0.2)\n",
    "plt.xlabel('t')\n",
    "plt.ylabel('regret')\n",
    "plt.title('Cumulative Regret of OGD_wg with standard deviation over 100 runs')\n",
    "plt.legend()\n",
    "plt.show()"
   ]
  },
  {
   "attachments": {},
   "cell_type": "markdown",
   "metadata": {},
   "source": [
    "# Question 7.b)"
   ]
  },
  {
   "cell_type": "code",
   "execution_count": 219,
   "metadata": {},
   "outputs": [
    {
     "data": {
      "image/png": "[encoded data removed]",
      "text/plain": [
       "<Figure size 432x288 with 1 Axes>"
      ]
     },
     "metadata": {
      "needs_background": "light"
     },
     "output_type": "display_data"
    }
   ],
   "source": [
    "#testing the variation to the dimension d in OGD\n",
    "d_values = np.arange(1, 11)\n",
    "regrets = []\n",
    "for d in d_values:\n",
    "    cum_regrets = OGD(d=d)\n",
    "    regrets.append(cum_regrets[0][-1])\n",
    "\n",
    "plt.plot(d_values, regrets, label='OGD')\n",
    "plt.xlabel('d')\n",
    "plt.ylabel('regret')\n",
    "plt.title('Regret at time T=1000 of OGD')\n",
    "plt.legend()\n",
    "plt.show()"
   ]
  },
  {
   "cell_type": "code",
   "execution_count": 216,
   "metadata": {},
   "outputs": [
    {
     "data": {
      "image/png": "[encoded data removed]",
      "text/plain": [
       "<Figure size 432x288 with 1 Axes>"
      ]
     },
     "metadata": {
      "needs_background": "light"
     },
     "output_type": "display_data"
    }
   ],
   "source": [
    "#testing the variation to the dimension d in OGD_wg, with standard deviation window\n",
    "d_values = np.arange(1, 11)\n",
    "regrets = []\n",
    "for d in d_values:\n",
    "    cum_regrets = OGD_wg(d=d, nruns=100)\n",
    "    regrets.append(np.mean(cum_regrets[:, -1]))\n",
    "    #values for fill between\n",
    "    lower = np.mean(cum_regrets[:, -1]) - np.std(cum_regrets[:, -1])\n",
    "    upper = np.mean(cum_regrets[:, -1]) + np.std(cum_regrets[:, -1])\n",
    "\n",
    "plt.plot(d_values, regrets, label='OGD_wg')\n",
    "plt.fill_between(d_values, lower, upper, alpha=0.2)\n",
    "plt.xlabel('d')\n",
    "plt.ylabel('regret')\n",
    "plt.title('Regret at time T=1000 of OGD_wg with standard deviation over 100 runs')\n",
    "plt.legend()\n",
    "plt.show()\n"
   ]
  },
  {
   "attachments": {},
   "cell_type": "markdown",
   "metadata": {},
   "source": [
    "We can see that the regret increases with the dimension $d$ for both OGD and OGD without gradients. Also, from the result of question 6 we should have an increase that isn't stronger than $\\sqrt{d}$ which seems to be verified on the plot of OGD without gradients."
   ]
  },
  {
   "attachments": {},
   "cell_type": "markdown",
   "metadata": {},
   "source": [
    "# Part 2 : Best arm identification"
   ]
  },
  {
   "attachments": {},
   "cell_type": "markdown",
   "metadata": {},
   "source": [
    "# Fixed Budget"
   ]
  },
  {
   "attachments": {},
   "cell_type": "markdown",
   "metadata": {},
   "source": [
    "# Question 1.a)"
   ]
  },
  {
   "attachments": {},
   "cell_type": "markdown",
   "metadata": {},
   "source": [
    "We have $(\\hat{k} \\neq k^*) = \\bigcup_{k \\neq k^*}(\\hat{\\mu}_{T, k} > \\hat{\\mu}_{T, k^*}) = \\bigcup_{k \\neq k^*}(\\hat{\\mu}_{T, k} - \\hat{\\mu}_{T, k^*} - (-\\Delta_k) > \\Delta_k)$.\n",
    "Using the union bound (we assume $k^* = 1$):\n",
    "$$\\mathbb{P}(\\hat{k} \\neq k^*) \\leq \\sum_{k=2}^K \\mathbb{P}(\\hat{\\mu}_{T, k} - \\hat{\\mu}_{T, k^*} - (-\\Delta_k) > \\Delta_k)$$\n",
    "${\\mu}_{T, k} - \\hat{\\mu}_{T, k^*}$, is the mean of $T/K$ i.i.d. random variables with mean $\\Delta_k$ and taking values in [-2, 2] (if we assume that each $X_t^k$ is in [-1, 1]). Using Hoeffding's inequality, we get :\n",
    "\n",
    "$$\\boxed{\\mathbb{P}(\\hat{k} \\neq k^*) \\leq \\sum_{k=2}^T 2\\exp(-2\\Delta_k^2/(T/K16)) = 2\\sum_{k=2}^T \\exp(-\\frac{K\\Delta_k^2}{8T})}$$"
   ]
  },
  {
   "attachments": {},
   "cell_type": "markdown",
   "metadata": {},
   "source": [
    "# Question 2.a)"
   ]
  },
  {
   "attachments": {},
   "cell_type": "markdown",
   "metadata": {},
   "source": [
    "This is exactly the probability of error of uniform sampling with each arm being pulled $n_1$ times. Hence:\n",
    "\n",
    "$\\boxed{p \\leq 2\\sum_{k=2}^K \\exp(-\\frac{\\Delta_k^2}{8n_1})}$"
   ]
  },
  {
   "attachments": {},
   "cell_type": "markdown",
   "metadata": {},
   "source": [
    "# Question 2.b)"
   ]
  },
  {
   "attachments": {},
   "cell_type": "markdown",
   "metadata": {},
   "source": [
    "If we set $S_n = \\frac{1}{n} \\sum_{i=1}^n B_i$ then we can get a confidence interval for $\\mathbb{P}_{\\nu}(\\hat{k} \\neq k^*)$ using Hoeffding's inequality:\n",
    "\n",
    "$$\\mathbb{P}(|S_n - \\mathbb{P}_{\\nu}(\\hat{k} \\neq k^*)| \\geq t) \\leq 2\\exp(\\frac{-2t^2}{n})$$\n",
    "\n",
    "Or equivalently :\n",
    "\n",
    "$$\\boxed{\\mathbb{P}(|S_n - \\mathbb{P}_{\\nu}(\\hat{k} \\neq k^*)| \\leq \\sqrt{\\frac{n}{2} \\log(\\frac{2}{\\delta})}) \\geq 1-\\delta }$$"
   ]
  },
  {
   "attachments": {},
   "cell_type": "markdown",
   "metadata": {},
   "source": [
    "# Question 2.c)"
   ]
  },
  {
   "cell_type": "code",
   "execution_count": 229,
   "metadata": {},
   "outputs": [],
   "source": [
    "K = 20\n",
    "means = np.array([0.5] + [0.4] * (K-1))\n",
    "sigmas = np.ones(K)\n",
    "T_list = [100, 500, 2000]"
   ]
  },
  {
   "cell_type": "code",
   "execution_count": 230,
   "metadata": {},
   "outputs": [],
   "source": [
    "def uniform_sampling(T, means, sigmas):\n",
    "    K = means.shape[0]\n",
    "    mu_hat = np.zeros(K)\n",
    "    N = np.zeros(K)\n",
    "    rewards = []\n",
    "\n",
    "    for k in range(K):\n",
    "        for t in range(T//K):\n",
    "            reward = np.random.normal(means[k], sigmas[k])\n",
    "            mu_hat[k] += reward\n",
    "            N[k] += 1\n",
    "    \n",
    "    return np.argmax(mu_hat/N)"
   ]
  },
  {
   "cell_type": "code",
   "execution_count": 231,
   "metadata": {},
   "outputs": [],
   "source": [
    "def succesive_rejects(T, means, sigmas):\n",
    "    K = means.shape[0]\n",
    "    mu_hat = np.zeros(K)\n",
    "    N = np.zeros(K)\n",
    "    A = set(np.arange(K))\n",
    "    log_bar = 1/2 + np.sum(1/np.arange(2, K+1))\n",
    "    n = np.zeros(K)\n",
    "    for j in range(1, K):\n",
    "        n[j] = ceil((T-K)/(log_bar * (K+1 - j)))\n",
    "\n",
    "    for j in range(1, K):\n",
    "        n_rounds = int(n[j] - n[j-1])\n",
    "        for i in A:\n",
    "            for _ in range(n_rounds):\n",
    "                reward = np.random.normal(means[i], sigmas[i])\n",
    "                mu_hat[i] += reward\n",
    "                N[i] += 1\n",
    "        worst_arm = min([(mu_hat[k]/N[k], k) for k in range(K) if k in A])[1]\n",
    "        A.remove(worst_arm)            \n",
    "    \n",
    "    return min(A)"
   ]
  },
  {
   "attachments": {},
   "cell_type": "markdown",
   "metadata": {},
   "source": [
    "The confidence interval that I derived in the previous question is not sharp enough so it gives no interesting confidence intervals for the succesive rejects algorithm. Hence in the following experiments confidence intervals are only given for the uniform sampling, which is actually just the upper bound derived in question 2.a)."
   ]
  },
  {
   "cell_type": "code",
   "execution_count": 237,
   "metadata": {},
   "outputs": [
    {
     "name": "stdout",
     "output_type": "stream",
     "text": [
      "------------------------------------\n",
      "Budget : 100.\n",
      "Error probability of uniform sampling : 0.80 %.\n",
      "It should be between 0 and 37.99050118740105\n",
      "Error probability of succesive rejects : 0.77 %.\n",
      "------------------------------------\n",
      "Budget : 500.\n",
      "Error probability of uniform sampling : 0.62 %.\n",
      "It should be between 0 and 37.99810004749921\n",
      "Error probability of succesive rejects : 0.47 %.\n",
      "------------------------------------\n",
      "Budget : 2000.\n",
      "Error probability of uniform sampling : 0.29 %.\n",
      "It should be between 0 and 37.99952500296874\n",
      "Error probability of succesive rejects : 0.17 %.\n"
     ]
    }
   ],
   "source": [
    "n_experiments = 1000\n",
    "for T in T_list:\n",
    "    uniform =  np.array([uniform_sampling(T, means, sigmas) for n in range(n_experiments)])\n",
    "    sr = np.array([succesive_rejects(T, means, sigmas) for n in range(n_experiments)])\n",
    "    print('------------------------------------')\n",
    "    print(f'Budget : {T}.')\n",
    "    print(f'Error probability of uniform sampling : {np.mean(uniform != 0):.2f} %.')\n",
    "    print(f'It should be between 0 and {2*(K-1)*np.exp(-K/T *(0.1)**2/8)}')\n",
    "    print(f'Error probability of succesive rejects : {np.mean(sr != 0):.2f} %.')"
   ]
  },
  {
   "attachments": {},
   "cell_type": "markdown",
   "metadata": {},
   "source": [
    "# Fixed confidence"
   ]
  },
  {
   "attachments": {},
   "cell_type": "markdown",
   "metadata": {},
   "source": [
    "# Question 1.a)"
   ]
  },
  {
   "cell_type": "code",
   "execution_count": 234,
   "metadata": {},
   "outputs": [],
   "source": [
    "means = np.array([0.5, 0.4, 0.4] + [0.3]*7)\n",
    "sigmas = np.ones(10)\n",
    "delta = 1e-2"
   ]
  },
  {
   "cell_type": "code",
   "execution_count": 235,
   "metadata": {},
   "outputs": [],
   "source": [
    "def UCB_rm(means, sigmas, T=10000):\n",
    "    K = means.shape[0]\n",
    "    mu_hat = np.zeros(K)\n",
    "    N = np.zeros(K)\n",
    "    rewards = []\n",
    "\n",
    "    for t in range(1, T+1):\n",
    "\n",
    "        #choose an arm\n",
    "        if t<=K:\n",
    "            k = t-1\n",
    "        else:\n",
    "            k = np.argmax(mu_hat/N + np.sqrt(2*np.log(t)/N))\n",
    "        \n",
    "        #sample the k th arm according to a Gaussian\n",
    "\n",
    "        X = np.random.normal(means[k], sigmas[k])\n",
    "        mu_hat[k] += X\n",
    "        N[k] += 1\n",
    "\n",
    "        rewards.append(X)\n",
    "    \n",
    "    return means[0] * np.arange(T) - np.cumsum(rewards)\n"
   ]
  },
  {
   "cell_type": "code",
   "execution_count": 238,
   "metadata": {},
   "outputs": [
    {
     "data": {
      "image/png": "[encoded data removed]",
      "text/plain": [
       "<Figure size 432x288 with 1 Axes>"
      ]
     },
     "metadata": {
      "needs_background": "light"
     },
     "output_type": "display_data"
    }
   ],
   "source": [
    "n_experiments = 100\n",
    "mean_regret = np.mean(np.array([UCB_rm(means, sigmas) for n in range(n_experiments)]), axis=0)\n",
    "\n",
    "plt.plot(np.arange(10000), mean_regret)\n",
    "plt.xlabel('Time')\n",
    "plt.ylabel('Regret')\n",
    "plt.title(f'Mean cumulative regret over {n_experiments} experiments of UCB')\n",
    "plt.show()"
   ]
  },
  {
   "attachments": {},
   "cell_type": "markdown",
   "metadata": {},
   "source": [
    "# Question 1.b)"
   ]
  },
  {
   "cell_type": "code",
   "execution_count": 239,
   "metadata": {},
   "outputs": [],
   "source": [
    "def UCB_bai(means, sigmas):    \n",
    "    K = means.shape[0]\n",
    "    mu_hat = np.zeros(K)\n",
    "    N = np.zeros(K)\n",
    "\n",
    "    t = 0\n",
    "    while True:\n",
    "        t += 1\n",
    "        #choose an arm : as UCB\n",
    "        if t<=K:\n",
    "            k = t-1\n",
    "        else:\n",
    "            k = np.argmax(mu_hat/N + np.sqrt(2*np.log(t)/N))\n",
    "        \n",
    "        #sample the k th arm according to a Gaussian\n",
    "\n",
    "        X = np.random.normal(means[k], sigmas[k])\n",
    "        mu_hat[k] += X\n",
    "        N[k] += 1\n",
    "\n",
    "        #stop according to the stopping rule, if all arms have been tried\n",
    "\n",
    "        if t < K:\n",
    "            continue\n",
    "        star = np.argmax(mu_hat/N)\n",
    "        mu_star = mu_hat[star]/N[star]\n",
    "        N_star = N[star]\n",
    "        \n",
    "        lhs = 0.5 * min([(mu_star-mu_hat[k]/N[k])/(1/N_star+1/N[k]) for k in range(K) if k != star])\n",
    "        rhs = -np.log(delta) + 3 * np.log(1+np.log(t))\n",
    "        if lhs > rhs:\n",
    "            break\n",
    "\n",
    "    return np.argmax(N), t\n"
   ]
  },
  {
   "cell_type": "code",
   "execution_count": 240,
   "metadata": {},
   "outputs": [],
   "source": [
    "def UNIFORM_bai(means, sigmas):    \n",
    "    K = means.shape[0]\n",
    "    mu_hat = np.zeros(K)\n",
    "    N = np.zeros(K)\n",
    "\n",
    "    t = 0\n",
    "    while True:\n",
    "        t += 1\n",
    "        #choose an arm : we do round robin\n",
    "        \n",
    "        k = (t-1) % K\n",
    "        \n",
    "        #sample the k th arm according to a Gaussian\n",
    "\n",
    "        X = np.random.normal(means[k], sigmas[k])\n",
    "        mu_hat[k] += X\n",
    "        N[k] += 1\n",
    "\n",
    "        #stop according to the stopping rule, if all arms have been tried\n",
    "\n",
    "        if t < K:\n",
    "            continue\n",
    "        star = np.argmax(mu_hat/N)\n",
    "        mu_star = mu_hat[star]/N[star]\n",
    "        N_star = N[star]\n",
    "        \n",
    "        lhs = 0.5 * min([(mu_star-mu_hat[k]/N[k])/(1/N_star+1/N[k]) for k in range(K) if k != star])\n",
    "        rhs = -np.log(delta) + 3 * np.log(1+np.log(t))\n",
    "        if lhs > rhs:\n",
    "            break\n",
    "\n",
    "    return np.argmax(mu_hat/N), t\n"
   ]
  },
  {
   "cell_type": "code",
   "execution_count": 250,
   "metadata": {},
   "outputs": [
    {
     "name": "stdout",
     "output_type": "stream",
     "text": [
      "Accuracy of UCB_bai : 96.00 %.\n",
      "Accuracy of UNIFORM_bai : 99.00 %.\n"
     ]
    },
    {
     "data": {
      "image/png": "[encoded data removed]",
      "text/plain": [
       "<Figure size 432x288 with 1 Axes>"
      ]
     },
     "metadata": {
      "needs_background": "light"
     },
     "output_type": "display_data"
    }
   ],
   "source": [
    "n_experiments = 100\n",
    "ucb = np.array([UCB_bai(means, sigmas) for n in range(n_experiments)])\n",
    "uniform = np.array([UNIFORM_bai(means, sigmas) for n in range(n_experiments)])\n",
    "\n",
    "print(f'Accuracy of UCB_bai : {100*np.mean(ucb[:, 0] == 0):.2f} %.')\n",
    "print(f'Accuracy of UNIFORM_bai : {100*np.mean(uniform[:, 0] == 0):.2f} %.')\n",
    "\n",
    "#plot the stopping times of the two algorithms on the same boxplot\n",
    "\n",
    "plt.boxplot([ucb[:, 1], uniform[:, 1]])\n",
    "plt.xticks([1, 2], ['UCB', 'Uniform'])\n",
    "plt.ylabel('Stopping time')\n",
    "plt.title('Stopping times of UCB and Uniform')\n",
    "\n",
    "plt.show()"
   ]
  },
  {
   "attachments": {},
   "cell_type": "markdown",
   "metadata": {},
   "source": [
    "# Question 2.a)"
   ]
  },
  {
   "cell_type": "code",
   "execution_count": 242,
   "metadata": {},
   "outputs": [],
   "source": [
    "def TTUCB(means, sigmas, beta=0.5):\n",
    "    K = means.shape[0]\n",
    "    mu_hat = np.zeros(K)\n",
    "    N = np.zeros(K)\n",
    "    rewards = []\n",
    "\n",
    "    t = 0\n",
    "    while True:\n",
    "        t += 1\n",
    "        #compute the leader and the challenger\n",
    "\n",
    "        if t <= K:\n",
    "            k = t-1\n",
    "        else:\n",
    "            #UCB for the leader\n",
    "            B = np.argmax(mu_hat/N + np.sqrt(2*np.log(t)/N))\n",
    "            mu_B = mu_hat[B]/N[B]\n",
    "            N_b = N[B]\n",
    "            \n",
    "            C = min([((mu_B - mu_hat[k]/N[k])/(1/N_b + 1/N[k]), k) for k in range(K) if k != B])[1]\n",
    "\n",
    "            k = B if np.random.uniform() < beta else C\n",
    "        \n",
    "        #sample the k th arm according to a Gaussian\n",
    "\n",
    "        X = np.random.normal(means[k], sigmas[k])\n",
    "        mu_hat[k] += X\n",
    "        N[k] += 1\n",
    "\n",
    "        #stop according to the stopping rule, if all arms have been tried\n",
    "\n",
    "        if t < K:\n",
    "            continue\n",
    "        star = np.argmax(mu_hat/N)\n",
    "        mu_star = mu_hat[star]/N[star]\n",
    "        N_star = N[star]\n",
    "\n",
    "        lhs = 0.5 * min([(mu_star-mu_hat[k]/N[k])/(1/N_star+1/N[k]) for k in range(K) if k != star])\n",
    "        rhs = -np.log(delta) + 3 * np.log(1+np.log(t))\n",
    "        if lhs > rhs:\n",
    "            break\n",
    "\n",
    "    return np.argmax(mu_hat/N), t"
   ]
  },
  {
   "attachments": {},
   "cell_type": "markdown",
   "metadata": {},
   "source": [
    "# Question 2.b)"
   ]
  },
  {
   "cell_type": "code",
   "execution_count": 243,
   "metadata": {},
   "outputs": [],
   "source": [
    "def EB_TC(means, sigmas, beta = 0.5):\n",
    "    K = means.shape[0]\n",
    "    mu_hat = np.zeros(K)\n",
    "    N = np.zeros(K)\n",
    "    rewards = []\n",
    "\n",
    "    t = 0\n",
    "    while True:\n",
    "        t += 1\n",
    "        #compute the leader and the challenger\n",
    "\n",
    "        if t <= K:\n",
    "            k = t-1\n",
    "        else:\n",
    "            # best empirical mean for the mean\n",
    "            B = np.argmax(mu_hat/N + np.sqrt(2*np.log(t)/N))\n",
    "            mu_B = mu_hat[B]/N[B]\n",
    "            N_b = N[B]\n",
    "            \n",
    "            C = min([((mu_B - mu_hat[k]/N[k])/(1/N_b + 1/N[k]), k) for k in range(K) if k != B])[1]\n",
    "\n",
    "            k = B if np.random.uniform() < beta else C\n",
    "        \n",
    "        #sample the k th arm according to a Gaussian\n",
    "\n",
    "        X = np.random.normal(means[k], sigmas[k])\n",
    "        mu_hat[k] += X\n",
    "        N[k] += 1\n",
    "\n",
    "        #stop according to the stopping rule, if all arms have been tried\n",
    "\n",
    "        if t < K:\n",
    "            continue\n",
    "        star = np.argmax(mu_hat/N)\n",
    "        mu_star = mu_hat[star]/N[star]\n",
    "        N_star = N[star]\n",
    "        \n",
    "        lhs = 0.5 * min([(mu_star-mu_hat[k]/N[k])/(1/N_star+1/N[k]) for k in range(K) if k != star])\n",
    "        rhs = -np.log(delta) + 3 * np.log(1+np.log(t))\n",
    "        if lhs > rhs:\n",
    "            break\n",
    "\n",
    "    return np.argmax(mu_hat/N), t"
   ]
  },
  {
   "attachments": {},
   "cell_type": "markdown",
   "metadata": {},
   "source": [
    "# Question 2.c)"
   ]
  },
  {
   "cell_type": "code",
   "execution_count": 253,
   "metadata": {},
   "outputs": [
    {
     "name": "stdout",
     "output_type": "stream",
     "text": [
      "Accuracy of UCB_bai : 100.00 %.\n",
      "Accuracy of UNIFORM_bai : 98.00 %.\n",
      "Accuracy of TTUCB : 99.00 %.\n",
      "Accuracy of EB_TC : 99.00 %.\n"
     ]
    },
    {
     "data": {
      "image/png": "[encoded data removed]",
      "text/plain": [
       "<Figure size 432x288 with 1 Axes>"
      ]
     },
     "metadata": {
      "needs_background": "light"
     },
     "output_type": "display_data"
    }
   ],
   "source": [
    "#compare the four algorithms\n",
    "n_experiments = 100\n",
    "ucb = np.array([UCB_bai(means, sigmas) for n in range(n_experiments)])\n",
    "uniform = np.array([UNIFORM_bai(means, sigmas) for n in range(n_experiments)])\n",
    "ttucb = np.array([TTUCB(means, sigmas) for n in range(n_experiments)])\n",
    "eb_tc = np.array([EB_TC(means, sigmas) for n in range(n_experiments)])\n",
    "\n",
    "print(f'Accuracy of UCB_bai : {100*np.mean(ucb[:, 0] == 0):.2f} %.')\n",
    "print(f'Accuracy of UNIFORM_bai : {100*np.mean(uniform[:, 0] == 0):.2f} %.')\n",
    "print(f'Accuracy of TTUCB : {100*np.mean(ttucb[:, 0] == 0):.2f} %.')\n",
    "print(f'Accuracy of EB_TC : {100*np.mean(eb_tc[:, 0] == 0):.2f} %.')\n",
    "\n",
    "#plot the stopping times of the four algorithms on the same boxplot\n",
    "plt.figure()\n",
    "plt.boxplot([ucb[:, 1], uniform[:, 1], ttucb[:, 1], eb_tc[:, 1]])\n",
    "plt.ylabel('Time')\n",
    "plt.title(f'Stopping time of the four algorithms for {n_experiments} experiments.')\n",
    "plt.xticks([1, 2, 3, 4], ['UCB_bai', 'UNIFORM_bai', 'TTUCB', 'EB_TC'])\n",
    "\n",
    "plt.show()"
   ]
  },
  {
   "attachments": {},
   "cell_type": "markdown",
   "metadata": {},
   "source": [
    "In terms of stopping time, the two best performing algorithms are the Top-Two algorithms although on this problem UCB_bai performs nearly as well. However UNIFORM_bai seems too basic and can't compete with algorithms exploiting the rewards obtained during the run. From several runs of UCB_bai it can be observed a strong variance of the stopping time with outliers with very high stopping time (actually the above figure is obtained after several tries, because some outliers of UCB completely flattened the box plots). An explanation could be that the exploration isn't present inherently in the algorithm so it might be very long to spot the best arm if it has badly performed in the first steps of the algorithm. \\\n",
    "Although it is hard to see on this figure, the EB-TC actually performs better than TTUCB. It might be because the exploration mechanism isn't necessary for the leader so the algorithm can focus more rapidly on the best arms and just in case explore with the challenger."
   ]
  }
 ],
 "metadata": {
  "kernelspec": {
   "display_name": "Python 3",
   "language": "python",
   "name": "python3"
  },
  "language_info": {
   "codemirror_mode": {
    "name": "ipython",
    "version": 3
   },
   "file_extension": ".py",
   "mimetype": "text/x-python",
   "name": "python",
   "nbconvert_exporter": "python",
   "pygments_lexer": "ipython3",
   "version": "3.10.2"
  },
  "orig_nbformat": 4,
  "vscode": {
   "interpreter": {
    "hash": "256290e5d779d098235c7da0da63243dc5a2d137c006ed76deee9b7ada065117"
   }
  }
 },
 "nbformat": 4,
 "nbformat_minor": 2
}
