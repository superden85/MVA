{
  "nbformat": 4,
  "nbformat_minor": 0,
  "metadata": {
    "colab": {
      "provenance": []
    },
    "kernelspec": {
      "name": "python3",
      "display_name": "Python 3"
    },
    "language_info": {
      "name": "python"
    }
  },
  "cells": [
    {
      "cell_type": "markdown",
      "source": [
        "#Devoir 6"
      ],
      "metadata": {
        "id": "oSTozI-_oLj-"
      }
    },
    {
      "cell_type": "markdown",
      "source": [
        "#Exercice 16"
      ],
      "metadata": {
        "id": "ivk01K0DoIhu"
      }
    },
    {
      "cell_type": "markdown",
      "source": [
        "#Question 1"
      ],
      "metadata": {
        "id": "pD3WuqiBoOsm"
      }
    },
    {
      "cell_type": "markdown",
      "source": [
        "Si $n = 0$, alors $\\int_a^b x_n^+dx = b-a$. Si $n>0$, on remarque que $\\int_0^a x_n^+dx = 0$ si $a < 0$ et $\\int_0^a x_n^+dx = \\frac{a^{n+1}}{n+1}$ sinon. Ce qui s'écrit dans tous les cas : $\\int_0^a x_n^+dx = \\frac{{a_+}^{n+1}}{n+1}$. D'ou $\\int_a^b x_n^+dx = \\frac{{b_+}^{n+1}}{n+1} - \\frac{{a_+}^{n+1}}{n+1}$"
      ],
      "metadata": {
        "id": "Rx-X4mbboQcO"
      }
    },
    {
      "cell_type": "markdown",
      "source": [
        "#Question 2"
      ],
      "metadata": {
        "id": "WoQ7ZRVqp-CY"
      }
    },
    {
      "cell_type": "markdown",
      "source": [
        "On montre par récurrence la propriété $\\mathcal{H}(n): \"\\forall x \\quad \\beta ^n(x) = \\frac{1}{n!}\\sum_{k=0}^{n+1}\\binom{n+1}{k} (-1)^k (x-k+\\frac{n+1}{2})_+^n\"$ pour $n \\in \\mathbb{N}^*$.$$$$\n",
        "Lorsque $n=1$, on sait que $\\beta^1(x) = 1-|x|$ pour $|x| \\leq 1$ et $0$ ailleurs.\n",
        "La formule dans $\\mathcal{H}(1)$ donne:$$ (x+1)_{+} - 2x_{+} + (x-1)_{+}$$. En se plaçant sur les quatres intervalles $[-∞, -1], [-1, 0], [0, 1]$ et $[1, +∞]$ on montre que $\\mathcal{H}(1)$ vraie.$$$$\n",
        "Soit $n \\geq 1$ tel que $\\mathcal{H}(n)$ vraie. On sait que $\\beta ^{n+1}= \\beta ^n * \\beta ^0$. Soit $x\\in \\mathbb{R}$, en utilisant l'hypothèse de récurrence et la linéarité de l'intégrale:\n",
        "$$\\beta ^{n+1}(x) = \\frac{1}{n!}\\sum_{k=0}^{n+1}\\binom{n+1}{k} (-1)^k \\int_{-0.5}^{0.5}(x-y-k+\\frac{n+1}{2})_+^ndy$$\n",
        "On fait le changement de variable $u = x-y-k+\\frac{n+1}{2}$. Puis on utilise le calcul de la question avec $n \\geq 1$:\n",
        "$$\\beta ^{n+1}(x) = \\frac{1}{(n+1)!}\\sum_{k=0}^{n+1}\\binom{n+1}{k} (-1)^k((x+0.5-k+\\frac{n+1}{2})_+^{n+1} - (x-0.5-k+\\frac{n+1}{2})_+^{n+1})$$\n",
        "$$\\beta ^{n+1}(x) = \\frac{1}{(n+1)!}\\sum_{k=0}^{n+1}\\binom{n+1}{k} (-1)^k(x-k+\\frac{n+2}{2})_+^{n+1} - \\frac{1}{(n+1)!}\\sum_{k=0}^{n+1}\\binom{n+1}{k} (-1)^k(x-(k+1)+\\frac{n+2}{2})_+^{n+1}$$\n",
        "Dans la deuxième somme, on fait le changement de variable $k'=k+1$. Puis on regroupe les termes d'indices $1 \\leq k \\leq n+1$:\n",
        "$$\\beta ^{n+1}(x) = \\frac{1}{(n+1)!}\\sum_{k=1}^{n+1}(\\binom{n+1}{k}+\\binom{n+1}{k-1})(-1)^k(x-k+\\frac{n+2}{2})_+^{n+1} + \\frac{1}{(n+1)!}(x+\\frac{n+2}{2})_+^{n+1} + \\frac{1}{(n+1)!}(-1)^{n+2}(x-(n+2)+\\frac{n+2}{2})_+^{n+1}$$\n",
        "On reconnait une formule binomiale et les termes manquants de la somme. D'où:\n",
        "$$\\beta ^{n+1}(x) = \\frac{1}{(n+1)!}\\sum_{k=0}^{n+2}\\binom{n+2}{k}(-1)^k(x-k+\\frac{n+2}{2})_+^{n+1}$$\n",
        "Donc $\\mathcal{H}(n+1)$ vraie. Donc la propriété est vérifiée pour tout $n$.\n"
      ],
      "metadata": {
        "id": "YY-0CdR6p_SG"
      }
    },
    {
      "cell_type": "markdown",
      "source": [
        "#Question 3"
      ],
      "metadata": {
        "id": "zB3DW9F7z---"
      }
    },
    {
      "cell_type": "markdown",
      "source": [
        "Supposons que pour tout $l \\in \\mathbb{Z}$, $u(l) = \\sum_{k\\in\\mathbb{Z}} v(k)w(l-k)$. En appliquant la transformée de Fourier Discrète :\n",
        "$$\\forall p \\in \\mathbb{Z}, \\hat{u}(p) = \\sum_{q=0}^{N-1}\\sum_{k\\in\\mathbb{Z}} v(k)w(q-k) e^{-i2\\pi pq/N}$$\n",
        "Puis en utilisant que $v$ est $N$-périodique:\n",
        "$$\\forall p \\in \\mathbb{Z}, \\hat{u}(p) = \\sum_{q=0}^{N-1}\\sum_{m=0}^{N-1}v(m)\\sum_{k\\in\\mathbb{Z}} w(q-kN-m) e^{-i2\\pi pq/N}$$\n",
        "On peut toujours intervertir somme finie et somme infinie lorsque toutes les sommes infinies convergent séparement:\n",
        "$$\\forall p \\in \\mathbb{Z}, \\hat{u}(p) = \\sum_{m=0}^{N-1}v(m)\\sum_{k\\in\\mathbb{Z}} \\sum_{q=0}^{N-1}w(q-kN-m) e^{-i2\\pi pq/N}$$\n",
        "$$\\forall p \\in \\mathbb{Z}, \\hat{u}(p) = \\sum_{m=0}^{N-1}v(m)e^{-i2\\pi mp/N}\\sum_{k\\in\\mathbb{Z}} \\sum_{q=0}^{N-1}w(q-kN-m) e^{-i2\\pi p(q-m)/N}$$\n",
        "Or $\\sum_{k\\in\\mathbb{Z}} \\sum_{q=0}^{N-1}w(q-kN-m) e^{-i2\\pi p(q-m)/N} = \\sum_{k\\in\\mathbb{Z}} \\sum_{q=0}^{N-1}w(q-kN-m) e^{-i2\\pi p(q-kN-m)/N} = \\sum_{k\\in\\mathbb{Z}} w(k)e^{-i2\\pi pk/N} = \\hat{w}(2\\pi p/N)$. En effet on a sommé sur la partition de $\\mathbb{Z} = ⋃_{k\\in \\mathbb{Z}} [|kN-m, kN-m+N-1|]$.\n",
        "D'où : $\\forall p \\in \\mathbb{Z}, \\hat{u}(p) =\\hat{v}(p)\\hat{w}(\\frac{2\\pi p}{N})$\n"
      ],
      "metadata": {
        "id": "phjxKNOk0Au9"
      }
    },
    {
      "cell_type": "markdown",
      "source": [
        "Réciproquement supposons que $\\forall p \\in \\mathbb{Z}, \\hat{u}(p) =\\hat{v}(p)\\hat{w}(\\frac{2\\pi p}{N})$. En appliquant la Transformée de Fourier Discrète Inverse:\n",
        "$$\\forall l \\in \\mathbb{Z}, u(l) = \\frac{1}{N}\\sum_{q=0}^{N-1}\\hat{v}(q)\\sum_{k \\in \\mathbb{Z}}w(k)e^{-i2\\pi qk/N} e^{i2\\pi ql/N}$$\n",
        "On intervertit les sommes:\n",
        "$$\\forall l \\in \\mathbb{Z}, u(l) = \\sum_{k \\in \\mathbb{Z}} w(k)\\frac{1}{N}\\sum_{q=0}^{N-1}\\hat{v}(q)e^{i2\\pi q(l-k)/N}$$\n",
        "On reconnait la transformée de Fourier Discrète Inverse de v:\n",
        "$$\\forall l \\in \\mathbb{Z}, u(l) = \\sum_{k \\in \\mathbb{Z}} w(k)v(l-k) = \\sum_{k \\in \\mathbb{Z}} v(k)w(l-k)$$.\n",
        "Donc les deux relations sont équivalentes."
      ],
      "metadata": {
        "id": "5efr0pqpF1tc"
      }
    },
    {
      "cell_type": "markdown",
      "source": [
        "#Question 4\n"
      ],
      "metadata": {
        "id": "3K_ZwcXOIlbb"
      }
    },
    {
      "cell_type": "markdown",
      "source": [
        "Tout d'abord on remarque que $\\beta_d^n$ est $l^1$ car elle est à support fini. En effet $\\beta^n$ est à support inclus dans $[-(n+1)/2,(n+1)/2]$ (récurrence facile). Un tel signal existe puisque le signal $c$ défini par la Transformée de Fourier discrète Inverse de $p → \\frac{\\hat{u}(p)}{\\hat{\\beta_d^n}(\\frac{2\\pi p}{N})}$ vérifie la propriété d'interpolation exacte. En effet ce signal est bien défini (on a déjà montré que la transformée de Fourier de la trace de $\\beta^n$ ne s'annulait pas) et est bien N-périodique. De plus ce signal vérifie l'équation $(2)$ dans la question 3) car sa transformée de Fourier discrète vaut effectivement $p → \\frac{\\hat{u}(p)}{\\hat{\\beta_d^n}(\\frac{2\\pi p}{N})}$ sur tout $\\mathbb{Z}$ car $p → \\frac{\\hat{u}(p)}{\\hat{\\beta_d^n}(\\frac{2\\pi p}{N})}$ est périodique (quotient d'une transformée discrète avec une transformée de Fourier $2\\pi$ périodique discrétisée en $2\\pi p/N$). Donc ce signal vérifie egalement $(1)$.$$$$\n",
        "\n",
        "Pour l'unicité, si un signal vérifie l'interpolation exacte il doit vérifier $(1)$ et donc $(2)$ d'après la question 3). On doit donc avoir une égalité des transformées de Fourier sur $\\mathbb{Z}$ car $\\beta_d^n$ ne s'annule pas. Donc une égalité des signaux.$$$$\n",
        "\n",
        "La relation est: $$\\hat{c}(p) = \\frac{\\hat{u}(p)}{\\hat{\\beta_d^n}(\\frac{2\\pi p}{N})}$$"
      ],
      "metadata": {
        "id": "Wi2AkNw_IpuD"
      }
    },
    {
      "cell_type": "markdown",
      "source": [
        "#Question 5"
      ],
      "metadata": {
        "id": "j0NpEtp9RnYb"
      }
    },
    {
      "cell_type": "markdown",
      "source": [
        "On a $\\hat{u}_2(p) = \\sum_{l=0}^{2N-1}U(l/2)e^{-i2\\pi pl/2N}$. On sépare la somme selon les indices pairs et impairs:\n",
        "$$\\hat{u}_2(p) = \\sum_{l=0}^{N-1}u(l)e^{-i2\\pi pl/N} + e^{-i\\pi p/N}\\sum_{l=0}^{N-1}U(l+1/2)e^{-i2\\pi pl/N}$$ où on a utilisé que U définissait une interpolation exacte.\n",
        "On doit donc calculer la Transformée de Fourier du signal $l →U(l+1/2)$.\n",
        "Etant donné la forme de $U$, on peut se servir de la question 3) en introduisant $\\beta_{d, \\frac{1}{2}}^n$ comme étant la trace discrète de la spline d'ordre n qui a été translatée de 1/2 vers la gauche. On a:\n",
        "$$\\hat{u}_2(p) = \\hat{u}(p) + e^{-i\\pi p/N}\\hat{u}(p)\\frac{\\hat{\\beta}_{d, \\frac{1}{2}}^n(2\\pi p/N)}{\\hat{\\beta}_{d}^n(2\\pi p/N)}$$. On doit donc calculer les transformées de Fourier des traces discrètes des splines.\n",
        "$$$$\n",
        "Soit $ξ \\in \\mathbb{R}$. La spline d'ordre 3 discrète est nulle en dehors de $-1, 0, 1$ car la spline est continue à support inclus dans $[-2,2]$.\n",
        "De plus elle est paire, donc il s'agit de calculer les valeurs en $-1, 0$ par exemple. En $-1$, $6\\beta_{d}^n(-1) = 1$. En $0$, $6\\beta_{d}^n(-1) = 4$. La transformée de Fourier vaut donc:\n",
        "$$6\\hat{\\beta}_{d}^n(\\xi) = 4 + 2\\cos(\\xi)$$.\n",
        "Pour la spline discrète translatée, le calcul est similaire sauf qu'elle est potentiellement non nulle en $-2$. Elle symétrique par rapport à $-1/2$. En $-2$, $6\\cdot2^3{\\beta}_{d, \\frac{1}{2}}^n(-2) = 1$.\n",
        "En $-1$, $6\\cdot2^3{\\beta}_{d, \\frac{1}{2}}^n(-1) = 27-4=23$. La transformée de Fourier vaut donc:\n",
        "$$6\\cdot2^3\\hat{\\beta}_{d, \\frac{1}{2}}^n(\\xi) = e^{i\\xi/2}(2cos(3\\xi/2) + 23\\cdot2cos(\\xi/2))$$.\n",
        "En injectant les deux expressions précédentes:\n",
        "$$\\hat{u}_2(p) = \\hat{u}(p)(1+\\frac{cos(3\\pi p/N) + 23cos(\\pi p/N)}{8cos(2\\pi p/N)+16})$$"
      ],
      "metadata": {
        "id": "e25mtkW9RsFx"
      }
    },
    {
      "cell_type": "markdown",
      "source": [
        "On veut donc tracer la fonction $x → 1+\\frac{cos(3x) + 23cos(x)}{8cos(2x)+16}$ sur $[-2\\pi, 2\\pi]$."
      ],
      "metadata": {
        "id": "0BJC2WIsHYaI"
      }
    },
    {
      "cell_type": "code",
      "source": [
        "import matplotlib.pyplot as plt\n",
        "import numpy as np\n",
        "\n",
        "@np.vectorize\n",
        "def f(x):\n",
        "  return 1+(np.cos(3*x)+23*np.cos(x))/(16+8*np.cos(2*x))\n",
        "pi = np.pi\n",
        "x = np.linspace(0, 2*pi, 1000)\n",
        "y = f(x)\n",
        "plt.plot(x, y)\n",
        "plt.show()"
      ],
      "metadata": {
        "colab": {
          "base_uri": "https://localhost:8080/",
          "height": 265
        },
        "id": "UWSJ4mzsIfTZ",
        "outputId": "a8fff90d-7897-4016-f6f8-65ed2669fb4b"
      },
      "execution_count": null,
      "outputs": [
        {
          "output_type": "display_data",
          "data": {
            "text/plain": [
              "<Figure size 432x288 with 1 Axes>"
            ],
            "image/png": "[encoded data removed]"
          },
          "metadata": {
            "needs_background": "light"
          }
        }
      ]
    },
    {
      "cell_type": "markdown",
      "source": [
        "On a donc une atténuation brutale des hautes fréquences du signal de départ, qui correspondent aux moyennes fréquences du signal zoomé par symétrisation du spectre. Avec une interpolation de Shannon on n'a pas cette atténuation du signal (excepté sur les bords)."
      ],
      "metadata": {
        "id": "xODLWZJXKKZZ"
      }
    },
    {
      "cell_type": "markdown",
      "source": [
        "#Exercice 19"
      ],
      "metadata": {
        "id": "73BNyRTrKfp2"
      }
    },
    {
      "cell_type": "markdown",
      "source": [
        "Lorsque l'on augmente l'ordre de l'interpolation spline, l'image tournée (35 fois de 10 degres) est de meilleure qualité. En particulier on observe une grande différence entre $n=1$ et $n=3$ (pour $n=3$ est beaucoup plus nette) et une différence légère entre le cas $n=3$ et $n=5$ (la différence est à peine visible).$$$$\n",
        "La différence est cependant plus distincte entre l'interpolation spline cardinale d'ordre 3 et l'interpolation bicubique Keys. L'interpolation spline cardinale est plus nette.$$$$\n",
        "Enfin, avec la rotation obtenue par interpolation de Shannon le résultat est encore meilleur que les interpolations spline. En effet l'interpolation de Shannon est une interpolation directe exacte alors que les autres ne le sont pas."
      ],
      "metadata": {
        "id": "HNCuKmMQQ7mW"
      }
    }
  ]
}