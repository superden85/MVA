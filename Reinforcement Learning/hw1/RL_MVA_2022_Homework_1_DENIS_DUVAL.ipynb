{
  "nbformat": 4,
  "nbformat_minor": 0,
  "metadata": {
    "colab": {
      "provenance": [],
      "collapsed_sections": []
    },
    "kernelspec": {
      "name": "python3",
      "display_name": "Python 3"
    },
    "language_info": {
      "name": "python"
    },
    "accelerator": "GPU",
    "gpuClass": "standard"
  },
  "cells": [
    {
      "cell_type": "markdown",
      "metadata": {
        "id": "IAE8kMxe6E6k"
      },
      "source": [
        "# MVA - Homework 1 - Reinforcement Learning (2022/2023)\n",
        "\n",
        "**Name:** DUVAL Denis"
      ]
    },
    {
      "cell_type": "markdown",
      "metadata": {
        "id": "vY4MH0nU637o"
      },
      "source": [
        "## Instructions\n",
        "\n",
        "* The deadline is **November 10 at 11:59 pm (Paris time).**\n",
        "\n",
        "* By doing this homework you agree to the late day policy, collaboration and misconduct rules reported on [Piazza](https://piazza.com/class/l4y5ubadwj64mb/post/6).\n",
        "\n",
        "* **Mysterious or unsupported answers will not receive full credit**. A correct answer, unsupported by calculations, explanation, or algebraic work will receive no credit; an incorrect answer supported by substantially correct calculations and explanations might still receive partial credit.\n",
        "\n",
        "* Answers should be provided in **English**."
      ]
    },
    {
      "cell_type": "markdown",
      "metadata": {
        "id": "YB__2uUC5U1r"
      },
      "source": [
        "# Colab setup"
      ]
    },
    {
      "cell_type": "code",
      "metadata": {
        "id": "2XNj1_VZ2FGJ",
        "colab": {
          "base_uri": "https://localhost:8080/"
        },
        "outputId": "0a33ed9b-17f0-4a3d-d016-ca499034f1df"
      },
      "source": [
        "from IPython import get_ipython\n",
        "\n",
        "if 'google.colab' in str(get_ipython()):\n",
        "  # install rlberry library\n",
        "  !pip install git+https://github.com/rlberry-py/rlberry.git@mva2021#egg=rlberry[default] > /dev/null 2>&1\n",
        "\n",
        "  # install ffmpeg-python for saving videos\n",
        "  !pip install ffmpeg-python > /dev/null 2>&1\n",
        "\n",
        "  # packages required to show video\n",
        "  !pip install pyvirtualdisplay > /dev/null 2>&1\n",
        "  !apt-get install -y xvfb python-opengl ffmpeg > /dev/null 2>&1\n",
        "\n",
        "  print(\"Libraries installed, please restart the runtime!\")\n"
      ],
      "execution_count": 1,
      "outputs": [
        {
          "output_type": "stream",
          "name": "stdout",
          "text": [
            "Libraries installed, please restart the runtime!\n"
          ]
        }
      ]
    },
    {
      "cell_type": "code",
      "metadata": {
        "id": "s8F7RiPXjutB"
      },
      "source": [
        "# Create directory for saving videos\n",
        "!mkdir videos > /dev/null 2>&1\n",
        "\n",
        "# Initialize display and import function to show videos\n",
        "import rlberry.colab_utils.display_setup\n",
        "from rlberry.colab_utils.display_setup import show_video"
      ],
      "execution_count": 2,
      "outputs": []
    },
    {
      "cell_type": "code",
      "metadata": {
        "id": "KISV44N_nCNm"
      },
      "source": [
        "# Useful libraries\n",
        "import numpy as np\n",
        "import matplotlib.pyplot as plt"
      ],
      "execution_count": 3,
      "outputs": []
    },
    {
      "cell_type": "markdown",
      "metadata": {
        "id": "L4hKBRTCh6Gk"
      },
      "source": [
        "# Preparation\n",
        "\n",
        "In the coding exercises, you will use a *grid-world* MDP, which is represented in Python using the interface provided by the [Gym](https://gym.openai.com/) library. The cells below show how to interact with this MDP and how to visualize it.\n"
      ]
    },
    {
      "cell_type": "code",
      "metadata": {
        "id": "514mHDeQooKa",
        "colab": {
          "base_uri": "https://localhost:8080/"
        },
        "outputId": "eb4790dd-a9df-4be4-a680-4282444dcca7"
      },
      "source": [
        "from rlberry.envs import GridWorld\n",
        "\n",
        "def get_env():\n",
        "  \"\"\"Creates an instance of a grid-world MDP.\"\"\"\n",
        "  env = GridWorld(\n",
        "      nrows=5,\n",
        "      ncols=7,\n",
        "      reward_at = {(0, 6):1.0},\n",
        "      walls=((0, 4), (1, 4), (2, 4), (3, 4)),\n",
        "      success_probability=0.9,\n",
        "      terminal_states=((0, 6),)\n",
        "  )\n",
        "  return env\n",
        "\n",
        "def render_policy(env, policy=None, horizon=50):\n",
        "  \"\"\"Visualize a policy in an environment\n",
        "\n",
        "  Args:\n",
        "    env: GridWorld\n",
        "        environment where to run the policy\n",
        "    policy: np.array\n",
        "        matrix mapping states to action (Ns).\n",
        "        If None, runs random policy.\n",
        "    horizon: int\n",
        "        maximum number of timesteps in the environment.\n",
        "  \"\"\"\n",
        "  env.enable_rendering()\n",
        "  state = env.reset()                       # get initial state\n",
        "  for timestep in range(horizon):\n",
        "      if policy is None:\n",
        "        action = env.action_space.sample()  # take random actions\n",
        "      else:\n",
        "        action = policy[state]\n",
        "      next_state, reward, is_terminal, info = env.step(action)\n",
        "      state = next_state\n",
        "      if is_terminal:\n",
        "        break\n",
        "  # save video and clear buffer\n",
        "  env.save_video('./videos/gw.mp4', framerate=5)\n",
        "  env.clear_render_buffer()\n",
        "  env.disable_rendering()\n",
        "  # show video\n",
        "  show_video('./videos/gw.mp4')\n"
      ],
      "execution_count": 4,
      "outputs": [
        {
          "output_type": "stream",
          "name": "stderr",
          "text": [
            "[INFO] OpenGL_accelerate module loaded \n",
            "[INFO] Using accelerated ArrayDatatype \n",
            "[INFO] Generating grammar tables from /usr/lib/python3.7/lib2to3/Grammar.txt \n",
            "[INFO] Generating grammar tables from /usr/lib/python3.7/lib2to3/PatternGrammar.txt \n",
            "/usr/local/lib/python3.7/dist-packages/past/types/oldstr.py:5: DeprecationWarning: Using or importing the ABCs from 'collections' instead of from 'collections.abc' is deprecated since Python 3.3,and in 3.9 it will stop working\n",
            "  from collections import Iterable\n",
            "/usr/local/lib/python3.7/dist-packages/past/builtins/misc.py:4: DeprecationWarning: Using or importing the ABCs from 'collections' instead of from 'collections.abc' is deprecated since Python 3.3,and in 3.9 it will stop working\n",
            "  from collections import Mapping\n"
          ]
        }
      ]
    },
    {
      "cell_type": "code",
      "metadata": {
        "id": "hQAHUBw_ifMI",
        "colab": {
          "base_uri": "https://localhost:8080/",
          "height": 548
        },
        "outputId": "60ad8248-a0f6-4dfb-efea-745097c5b57d"
      },
      "source": [
        "# Create an environment and visualize it\n",
        "env = get_env()\n",
        "render_policy(env)  # visualize random policy\n",
        "\n",
        "# The reward function and transition probabilities can be accessed through\n",
        "# the R and P attributes:\n",
        "print(f\"Shape of the reward array = (S, A) = {env.R.shape}\")\n",
        "print(f\"Shape of the transition array = (S, A, S) = {env.P.shape}\")\n",
        "print(f\"Reward at (s, a) = (1, 0): {env.R[1, 0]}\")\n",
        "print(f\"Prob[s\\'=2 | s=1, a=0]: {env.P[1, 0, 2]}\")\n",
        "print(f\"Number of states and actions: {env.Ns}, {env.Na}\")\n",
        "\n",
        "# The states in the griworld correspond to (row, col) coordinates.\n",
        "# The environment provides a mapping between (row, col) and the index of\n",
        "# each state:\n",
        "print(f\"Index of state (1, 0): {env.coord2index[(1, 0)]}\")\n",
        "print(f\"Coordinates of state 5: {env.index2coord[5]}\")"
      ],
      "execution_count": 5,
      "outputs": [
        {
          "output_type": "display_data",
          "data": {
            "text/plain": [
              "<IPython.core.display.HTML object>"
            ],
            "text/html": [
              "<video alt=\"videos/gw.mp4\" autoplay\n",
              "                      loop controls style=\"height: 400px;\">\n",
              "                    <source src=\"data:video/mp4;base64,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\" type=\"video/mp4\" />\n",
              "                 </video>"
            ]
          },
          "metadata": {}
        },
        {
          "output_type": "stream",
          "name": "stdout",
          "text": [
            "Shape of the reward array = (S, A) = (31, 4)\n",
            "Shape of the transition array = (S, A, S) = (31, 4, 31)\n",
            "Reward at (s, a) = (1, 0): 0.0\n",
            "Prob[s'=2 | s=1, a=0]: 0.04999999999999999\n",
            "Number of states and actions: 31, 4\n",
            "Index of state (1, 0): 6\n",
            "Coordinates of state 5: (0, 6)\n"
          ]
        }
      ]
    },
    {
      "cell_type": "markdown",
      "metadata": {
        "id": "ibGD_3I89CNu"
      },
      "source": [
        "# Part 1 - Dynamic Programming"
      ]
    },
    {
      "cell_type": "markdown",
      "metadata": {
        "id": "NR7h5won9NQY"
      },
      "source": [
        "## Question 1.1\n",
        "\n",
        "Consider a general MDP with a discount factor of $\\gamma < 1$. Assume that the horizon is infinite (so there is no termination). A policy $\\pi$ in this MDP\n",
        "induces a value function $V^\\pi$. Suppose an affine transformation is applied to the reward, what is\n",
        "the new value function? Is the optimal policy preserved?\n",
        "\n"
      ]
    },
    {
      "cell_type": "markdown",
      "metadata": {
        "id": "313W4K3B_LtN"
      },
      "source": [
        "### **Answer**\n",
        "\n",
        "Let $a, b$ two real scalars. The new reward is $r'=ar+b$. So for any policy $\\pi$ at any state $s$:\n",
        "$$ V'^\\pi(s) = \\mathbb{E}[\\sum_{t=0}^{∞}{\\gamma^tr'_t}|s_0=s, \\pi] = a\\mathbb{E}[\\sum_{t=0}^{∞}{\\gamma^tr_t}|s_0=s, \\pi] + b\\mathbb{E}[\\sum_{t=0}^{∞}{\\gamma^t}|s_0=s, \\pi]$$\n",
        "</br>\n",
        "Hence:\n",
        "$$ V'^\\pi(s) = aV^\\pi(s)+\\frac{b}{1-\\gamma}$$\n",
        "\n",
        "From this it is easy to see that :\n",
        "</br>\n",
        "- if $a>0$ then the optimal policy is preserved.\n",
        "</br>\n",
        "- if $a<0$ then the optimal policy isn't preserved, moreover the 'minimal' policy is now the optimal one.\n",
        "</br>\n",
        "- if $a=0$ then any policy is optimal."
      ]
    },
    {
      "cell_type": "markdown",
      "metadata": {
        "id": "0uCVgkDo9vTM"
      },
      "source": [
        "## Question 1.2\n",
        "\n",
        "Consider an infinite-horizon $\\gamma$-discounted MDP. We denote by $Q^*$ the $Q$-function of the optimal policy $\\pi^*$. Prove that, for any function $Q(s, a)$ (which is **not** necessarily the value function of a policy), the following inequality holds for any state $s$:\n",
        "\n",
        "$$\n",
        "V^{\\pi_Q}(s) \\geq V^*(s) - \\frac{2}{1-\\gamma}||Q^*-Q||_\\infty,\n",
        "$$\n",
        "\n",
        "where $||Q^*-Q||_\\infty = \\max_{s, a} |Q^*(s, a) - Q(s, a)|$ and $\\pi_Q(s) \\in \\arg\\max_a Q(s, a)$. Can you use this result to show that any policy $\\pi$ such that $\\pi(s) \\in \\arg\\max_a Q^*(s, a)$ is optimal?"
      ]
    },
    {
      "cell_type": "markdown",
      "metadata": {
        "id": "8MqGWPPD_OAI"
      },
      "source": [
        "### **Answer**\n",
        "\n",
        "Let $a=||Q^*-Q||_\\infty$.\n",
        "Let $s$ be any state.\n",
        "We start by writing the definitions of $Q^*$ and $Q^{\\pi_Q}$ :\n",
        "$$ V^*(s) - V^{\\pi_Q}(s)=Q^*(s, \\pi^*(s)) - Q^{\\pi_Q}(s, \\pi_Q(s)) = Q^*(s, \\pi^*(s)) - Q^*(s, \\pi_Q(s)) + Q^*(s, \\pi_Q(s)) - Q^{\\pi_Q}(s, \\pi_Q(s))$$\n",
        "\n",
        "The first difference can upper bounded using $Q$:\n",
        "$$ |Q^*(s, \\pi^*(s)) - Q^*(s, \\pi_Q(s))| \\leq |Q^*(s, \\pi^*(s)) - Q(s, \\pi_Q(s))| + |Q(s, \\pi_Q(s)) - Q^*(s, \\pi_Q(s))|$$\n",
        "With the first RHS term being nothing but $|||Q^*(s)||_\\infty-||Q(s)||_\\infty|$. In fact, $\\pi^*(s)$ and $\\pi_Q(s)$ are making $Q^*(s, .)$ and $Q(s, .)$ maximal by respectively the Optimal Bellman Equation and the definition of a greedy policy.\n",
        "</br>\n",
        "By the reverse triangular inequality this term is lower or equal than $a$. The second term is trivially lower than $a$.\n",
        "So the first difference can be upper bounded by $2a$.Now let's write the second term with the Bellman equations:\n",
        "$$Q^*(s, \\pi_Q(s)) - Q^{\\pi_Q}(s, \\pi_Q(s)) = r(s, \\pi_Q(s)) - r(s, \\pi_Q(s)) + \\gamma\\sum_{s'}{P(s'|s, {\\pi_Q}(s))}(V^*(s') - V^{\\pi_Q}(s')) $$\n",
        "</br>\n",
        "Combining all:\n",
        "$$ X \\leq 2aY + \\gamma P^{\\pi_Q}X$$ with $X = V^* - V^{\\pi_Q}$ and $Y$ is full of ones.\n",
        "</br>\n",
        "By recurrence we have (because $P^{\\pi_Q}$ is made of non negative coefficients):\n",
        "$$ X \\leq 2aY\\sum_{k=0}^{n}{\\gamma^k} + \\gamma^{n+1} {P^{\\pi_Q}}^{n+1}X$$\n",
        "And $\\gamma^{n+1} {P^{\\pi_Q}}^{n+1} → 0$ because ${P^{\\pi_Q}}^{n}$ is stochastic for all $n$ hence bounded and $\\gamma^{n+1} →0$.\n",
        "So when $n$ goes to $∞$ we have :\n",
        "$$ X \\leq \\frac{2aY}{1-\\gamma}$$\n",
        "Now let $\\pi$ a policy such that $\\pi(s) \\in \\arg\\max_a Q^*(s, a)$ for all $s$. This means we can take $Q=Q^*$ and it follows that $V^* = V^{\\pi}$.\n"
      ]
    },
    {
      "cell_type": "markdown",
      "metadata": {
        "id": "yIrtb7sihYcM"
      },
      "source": [
        "## Question 1.3\n",
        "\n",
        "In this question, you will implement and compare the policy and value iteration algorithms for a finite MDP. \n",
        "\n",
        "Complete the functions `policy_evaluation`, `policy_iteration` and `value_iteration` below.\n",
        "\n",
        "\n",
        "Compare value iteration and policy iteration. Highlight pros and cons of each method."
      ]
    },
    {
      "cell_type": "markdown",
      "metadata": {
        "id": "GLmQtk-wt0HS"
      },
      "source": [
        "### **Answer**\n",
        "\n",
        "Value iteration:\n",
        "</br>\n",
        "- Pros : each iteration is computationally efficient, in fact it is a $O(S^2A)$\n",
        "- Cons : the number of iterations to insure convergence can be big (here about 1600) and the convergence is not exact.\n",
        "</br>\n",
        "\n",
        "Policy iteration:\n",
        "- Pros : there are a finite number of iterations to get the optimal policy/value function and this number is often small (here 4).\n",
        "- Cons : an iteration can be less efficient than value iteration due to policy evaluation. It depends if we use direct computation in $O(S^3)$ or iterative evaluation in $O(S^2B)$ with $B$ depending on $\\gamma$ and the tolerance error.\n"
      ]
    },
    {
      "cell_type": "code",
      "metadata": {
        "id": "9yI0YYtMmpDQ"
      },
      "source": [
        "from re import A\n",
        "def policy_evaluation(P, R, policy, gamma=0.9, tol=1e-2):\n",
        "    \"\"\"\n",
        "    Args:\n",
        "        P: np.array\n",
        "            transition matrix (NsxNaxNs)\n",
        "        R: np.array\n",
        "            reward matrix (NsxNa)\n",
        "        policy: np.array\n",
        "            matrix mapping states to action (Ns)\n",
        "        gamma: float\n",
        "            discount factor\n",
        "        tol: float\n",
        "            precision of the solution\n",
        "    Return:\n",
        "        value_function: np.array\n",
        "            The value function of the given policy\n",
        "    \"\"\"\n",
        "    Ns, Na = R.shape\n",
        "    # ====================================================\n",
        "\t  # YOUR IMPLEMENTATION HERE \n",
        "    #\n",
        "    #Rpi = np.array([R[s, policy[s]] for s in range(Ns)])\n",
        "    #Ppi = np.array([P[s, policy[s]] for s in range(Ns)])\n",
        "    #value_function = np.linalg.inv(np.eye(Ns) - gamma*Ppi)@Rpi \n",
        "    def Tpi(V):\n",
        "      return np.array([R[s, policy[s]] + gamma*P[s, policy[s]]@V.T for s in range(Ns)])\n",
        "    rmax = R.max() + 1e-6\n",
        "    K = int(np.log((1-gamma)*tol/rmax)/np.log(gamma))\n",
        "    value_function = np.zeros(Ns)\n",
        "    for i in range(K):\n",
        "      value_function = Tpi(value_function)\n",
        "    # ====================================================\n",
        "    return value_function"
      ],
      "execution_count": 6,
      "outputs": []
    },
    {
      "cell_type": "code",
      "metadata": {
        "id": "ncqbPx99ncVY"
      },
      "source": [
        "def policy_iteration(P, R, gamma=0.9, tol=1e-3):\n",
        "    \"\"\"\n",
        "    Args:\n",
        "        P: np.array\n",
        "            transition matrix (NsxNaxNs)\n",
        "        R: np.array\n",
        "            reward matrix (NsxNa)\n",
        "        gamma: float\n",
        "            discount factor\n",
        "        tol: float\n",
        "            precision of the solution\n",
        "    Return:\n",
        "        policy: np.array\n",
        "            the final policy\n",
        "        V: np.array\n",
        "            the value function associated to the final policy\n",
        "    \"\"\"\n",
        "    Ns, Na = R.shape\n",
        "    V = np.zeros(Ns)\n",
        "    policy = np.ones(Ns, dtype=int)\n",
        "    # ====================================================\n",
        "\t  # YOUR IMPLEMENTATION HERE \n",
        "    #\n",
        "    def greedy(V):\n",
        "      return np.array([np.argmax([R[s,a]+gamma*P[s,a]@V.T for a in range(Na)]) for s in range(Ns)])\n",
        "    nV = policy_evaluation(P,R,policy,gamma,tol)\n",
        "    while np.linalg.norm(nV-V,ord=np.inf) > tol:\n",
        "      V = nV\n",
        "      policy = greedy(V)\n",
        "      nV = policy_evaluation(P,R,policy,gamma,tol)\n",
        "    V=nV\n",
        "    # ====================================================\n",
        "    return policy, V"
      ],
      "execution_count": 7,
      "outputs": []
    },
    {
      "cell_type": "code",
      "metadata": {
        "id": "3jB7dfA5nRCZ"
      },
      "source": [
        "from numpy.matrixlib.defmatrix import N\n",
        "def value_iteration(P, R, gamma=0.9, tol=1e-3):\n",
        "    \"\"\"\n",
        "    Args:\n",
        "        P: np.array\n",
        "            transition matrix (NsxNaxNs)\n",
        "        R: np.array\n",
        "            reward matrix (NsxNa)\n",
        "        gamma: float\n",
        "            discount factor\n",
        "        tol: float\n",
        "            precision of the solution\n",
        "    Return:\n",
        "        Q: final Q-function (at iteration n)\n",
        "        greedy_policy: greedy policy wrt Qn\n",
        "        Qfs: all Q-functions generated by the algorithm (for visualization)\n",
        "    \"\"\"\n",
        "    Ns, Na = R.shape\n",
        "    Q = np.zeros((Ns, Na))\n",
        "    Qfs = [Q]\n",
        "    # ====================================================\n",
        "\t  # YOUR IMPLEMENTATION HERE \n",
        "    #\n",
        "    def T(Q):\n",
        "      #compute Vpiq for efficiency\n",
        "      Vpiq = np.array([max(Q[s]) for s in range(Ns)])\n",
        "      return R + gamma*P@Vpiq\n",
        "    nQ = T(Q)\n",
        "    while np.linalg.norm(nQ-Q, ord=np.inf)>tol:\n",
        "      Qfs.append(nQ)\n",
        "      Q = nQ\n",
        "      nQ = T(Q)\n",
        "    Q = nQ\n",
        "    greedy_policy = np.argmax(Q, axis=1)\n",
        "    # ====================================================\n",
        "    return Q, greedy_policy, Qfs"
      ],
      "execution_count": 8,
      "outputs": []
    },
    {
      "cell_type": "markdown",
      "metadata": {
        "id": "-Fi0IzZJp74Z"
      },
      "source": [
        "### Testing your code"
      ]
    },
    {
      "cell_type": "code",
      "metadata": {
        "id": "P7JKrc1oqFI2",
        "colab": {
          "base_uri": "https://localhost:8080/",
          "height": 1000
        },
        "outputId": "3076b7bb-b30b-4f35-a6d8-dfff1e85d9f1"
      },
      "source": [
        "# Parameters\n",
        "tol = 1e-5\n",
        "gamma = 0.99\n",
        "\n",
        "# Environment\n",
        "env = get_env()\n",
        "\n",
        "# run value iteration to obtain Q-values\n",
        "VI_Q, VI_greedypol, all_qfunctions = value_iteration(env.P, env.R, gamma=gamma, tol=tol)\n",
        "\n",
        "# render the policy\n",
        "print(\"[VI]Greedy policy: \")\n",
        "render_policy(env, VI_greedypol)\n",
        "\n",
        "# compute the value function of the greedy policy using matrix inversion\n",
        "# ====================================================\n",
        "# YOUR IMPLEMENTATION HERE \n",
        "# compute value function of the greedy policy\n",
        "#\n",
        "Ns, Na = env.R.shape\n",
        "policy = VI_greedypol\n",
        "Rpi = np.array([env.R[s, policy[s]] for s in range(Ns)])\n",
        "Ppi = np.array([env.P[s, policy[s]] for s in range(Ns)])\n",
        "greedy_V = np.linalg.inv(np.eye(Ns) - gamma*Ppi)@Rpi\n",
        "# ====================================================\n",
        "\n",
        "# show the error between the computed V-functions and the final V-function\n",
        "# (that should be the optimal one, if correctly implemented)\n",
        "# as a function of time\n",
        "final_V = all_qfunctions[-1].max(axis=1)\n",
        "norms = [ np.linalg.norm(q.max(axis=1) - final_V) for q in all_qfunctions]\n",
        "plt.plot(norms)\n",
        "plt.xlabel('Iteration')\n",
        "plt.ylabel('Error')\n",
        "plt.title(\"Value iteration: convergence\")\n",
        "\n",
        "#### POLICY ITERATION ####\n",
        "PI_policy, PI_V = policy_iteration(env.P, env.R, gamma=gamma, tol=tol)\n",
        "print(\"\\n[PI]final policy: \")\n",
        "render_policy(env, PI_policy)\n",
        "\n",
        "## Uncomment below to check that everything is correct\n",
        "assert np.allclose(PI_policy, VI_greedypol),\\\n",
        "     \"You should check the code, the greedy policy computed by VI is not equal to the solution of PI\"\n",
        "assert np.allclose(PI_V, greedy_V),\\\n",
        "    \"Since the policies are equal, even the value function should be\"\n",
        "\n",
        "plt.show()"
      ],
      "execution_count": 9,
      "outputs": [
        {
          "output_type": "stream",
          "name": "stdout",
          "text": [
            "[VI]Greedy policy: \n"
          ]
        },
        {
          "output_type": "display_data",
          "data": {
            "text/plain": [
              "<IPython.core.display.HTML object>"
            ],
            "text/html": [
              "<video alt=\"videos/gw.mp4\" autoplay\n",
              "                      loop controls style=\"height: 400px;\">\n",
              "                    <source src=\"data:video/mp4;base64,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\" type=\"video/mp4\" />\n",
              "                 </video>"
            ]
          },
          "metadata": {}
        },
        {
          "output_type": "stream",
          "name": "stdout",
          "text": [
            "\n",
            "[PI]final policy: \n"
          ]
        },
        {
          "output_type": "display_data",
          "data": {
            "text/plain": [
              "<IPython.core.display.HTML object>"
            ],
            "text/html": [
              "<video alt=\"videos/gw.mp4\" autoplay\n",
              "                      loop controls style=\"height: 400px;\">\n",
              "                    <source src=\"data:video/mp4;base64,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\" type=\"video/mp4\" />\n",
              "                 </video>"
            ]
          },
          "metadata": {}
        },
        {
          "output_type": "display_data",
          "data": {
            "text/plain": [
              "<Figure size 432x288 with 1 Axes>"
            ],
            "image/png": "[encoded data removed]"
          },
          "metadata": {
            "needs_background": "light"
          }
        }
      ]
    },
    {
      "cell_type": "markdown",
      "metadata": {
        "id": "2V1QdoH-xFX0"
      },
      "source": [
        "# Part 2 - Tabular RL"
      ]
    },
    {
      "cell_type": "markdown",
      "metadata": {
        "id": "Qf51VhoPxbV4"
      },
      "source": [
        "## Question 2.1\n",
        "\n",
        "The code below collects two datasets of transitions (containing states, actions, rewards and next states) for a discrete MDP.\n",
        "\n",
        "For each of the datasets:\n",
        "\n",
        "1. Estimate the transitions and rewards, $\\hat{P}$ and $\\hat{R}$.\n",
        "2. Compute the optimal value function and the optimal policy with respect to the estimated MDP (defined by $\\hat{P}$ and $\\hat{R}$), which we denote by $\\hat{\\pi}$ and $\\hat{V}$.\n",
        "3. Numerically compare the performance of $\\hat{\\pi}$ and $\\pi^\\star$ (the true optimal policy), and the error between $\\hat{V}$ and $V^*$ (the true optimal value function).\n",
        "\n",
        "Which of the two data collection methods do you think is better? Why?"
      ]
    },
    {
      "cell_type": "markdown",
      "metadata": {
        "id": "eWSyewG2EZpJ"
      },
      "source": [
        "### **Answer**\n",
        "\n",
        "The second data collection, the one that samples uniformly, seems to be better. Intuitively the second data collection will better explore the states. This is because there are states $s$ that have a lower probability to be visited (when always starting from the same state) so the corresponding $P(s, a)$ will be poorly estimated while other will be well estimated. With the second strategy, each state has the same probability of being drawn so at least each $P(s,a)$ will be equally estimated.\n",
        "</br>\n",
        "Here there are 31 states, 4 actions and we draw 500 samples. So each pair $s,a$ has about 500/4*31 = 4 samples to estimate all the $P(s,a,s')$ (at most 4 of them are non zero here and the probabilities are extremes values of $[0,1]$) so this seems not too bad.\n",
        "</br>\n",
        "If we run the code below several times we see that almost always the agent reaches the terminal state with the second data collection while in the first data collection the agent is almost always stuck at the wall."
      ]
    },
    {
      "cell_type": "markdown",
      "source": [],
      "metadata": {
        "id": "DAH7v_HDLPuj"
      }
    },
    {
      "cell_type": "code",
      "metadata": {
        "id": "8lNPhB28EcGd",
        "colab": {
          "base_uri": "https://localhost:8080/",
          "height": 897
        },
        "outputId": "a20d9426-bed4-43a4-cd92-f5e917966473"
      },
      "source": [
        "def get_random_policy_dataset(env, n_samples):\n",
        "  \"\"\"Get a dataset following a random policy to collect data.\"\"\"\n",
        "  states = []\n",
        "  actions = []\n",
        "  rewards = []\n",
        "  next_states = []\n",
        "  \n",
        "  state = env.reset()\n",
        "  for _ in range(n_samples):\n",
        "    action = env.action_space.sample()\n",
        "    next_state, reward, is_terminal, info = env.step(action)\n",
        "    states.append(state)\n",
        "    actions.append(action)\n",
        "    rewards.append(reward)\n",
        "    next_states.append(next_state)\n",
        "    # update state\n",
        "    state = next_state\n",
        "    if is_terminal:\n",
        "      state = env.reset()\n",
        "\n",
        "  dataset = (states, actions, rewards, next_states)\n",
        "  return dataset\n",
        "\n",
        "def get_uniform_dataset(env, n_samples):\n",
        "  \"\"\"Get a dataset by uniformly sampling states and actions.\"\"\"\n",
        "  states = []\n",
        "  actions = []\n",
        "  rewards = []\n",
        "  next_states = []\n",
        "  for _ in range(n_samples):\n",
        "    state = env.observation_space.sample()\n",
        "    action = env.action_space.sample()\n",
        "    next_state, reward, is_terminal, info = env.sample(state, action)\n",
        "    states.append(state)\n",
        "    actions.append(action)\n",
        "    rewards.append(reward)\n",
        "    next_states.append(next_state)\n",
        "\n",
        "  dataset = (states, actions, rewards, next_states)\n",
        "  return dataset\n",
        "\n",
        "# Collect two different datasets\n",
        "num_samples = 500\n",
        "env = get_env()\n",
        "dataset_1 = get_random_policy_dataset(env, num_samples)\n",
        "dataset_2 = get_uniform_dataset(env, num_samples)\n",
        "\n",
        "\n",
        "# Item 3: Estimate the MDP with the two datasets; compare the optimal value\n",
        "# functions in the true and in the estimated MDPs\n",
        "\n",
        "#dataset 1\n",
        "Ns, Na = env.R.shape\n",
        "P1 = np.zeros((Ns, Na, Ns))\n",
        "N1 = np.zeros((Ns, Na))\n",
        "R1 = np.zeros((Ns, Na))\n",
        "\n",
        "for i in range(num_samples):\n",
        "  s, a, r, ns = dataset_1[0][i], dataset_1[1][i], dataset_1[2][i], dataset_1[3][i]\n",
        "  N1[s, a] += 1\n",
        "  R1[s, a] += r\n",
        "  P1[s, a, ns] += 1\n",
        "for s in range(Ns):\n",
        "  for a in range(Na):\n",
        "    P1[s, a]/=max(N1[s, a], 1)\n",
        "    R1[s, a]/=max(N1[s, a], 1)\n",
        "#we use policy iteration to compute the optimal policy / value function\n",
        "PI_policy_1, PI_V_1 = policy_iteration(P1, R1, gamma=gamma, tol=tol)\n",
        "print(\"Optimal policy of estimated P of first dataset\")\n",
        "print(\"Infinity norm error: \", np.linalg.norm(PI_V-PI_V_1, ord=np.inf))\n",
        "render_policy(env, PI_policy_1)\n",
        "\n",
        "#dataset 2\n",
        "Ns, Na = env.R.shape\n",
        "P1 = np.zeros((Ns, Na, Ns))\n",
        "N1 = np.zeros((Ns, Na))\n",
        "R1 = np.zeros((Ns, Na))\n",
        "\n",
        "for i in range(num_samples):\n",
        "  s, a, r, ns = dataset_2[0][i], dataset_2[1][i], dataset_2[2][i], dataset_2[3][i]\n",
        "  N1[s, a] += 1\n",
        "  R1[s, a] += r\n",
        "  P1[s, a, ns] += 1\n",
        "for s in range(Ns):\n",
        "  for a in range(Na):\n",
        "    P1[s, a]/=max(N1[s, a], 1)\n",
        "    R1[s, a]/=max(N1[s, a], 1)\n",
        "#we use policy iteration to compute the optimal policy / value function\n",
        "PI_policy_1, PI_V_1 = policy_iteration(P1, R1, gamma=gamma, tol=tol)\n",
        "print(\"Optimal policy of estimated P of second dataset\")\n",
        "print(\"Infinity norm error: \", np.linalg.norm(PI_V-PI_V_1, ord=np.inf))\n",
        "render_policy(env, PI_policy_1)\n",
        "# ..."
      ],
      "execution_count": 10,
      "outputs": [
        {
          "output_type": "stream",
          "name": "stdout",
          "text": [
            "Optimal policy of estimated P of first dataset\n",
            "Infinity norm error:  99.99998992565207\n"
          ]
        },
        {
          "output_type": "display_data",
          "data": {
            "text/plain": [
              "<IPython.core.display.HTML object>"
            ],
            "text/html": [
              "<video alt=\"videos/gw.mp4\" autoplay\n",
              "                      loop controls style=\"height: 400px;\">\n",
              "                    <source src=\"data:video/mp4;base64,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\" type=\"video/mp4\" />\n",
              "                 </video>"
            ]
          },
          "metadata": {}
        },
        {
          "output_type": "stream",
          "name": "stdout",
          "text": [
            "Optimal policy of estimated P of second dataset\n",
            "Infinity norm error:  1.6149832405864686\n"
          ]
        },
        {
          "output_type": "display_data",
          "data": {
            "text/plain": [
              "<IPython.core.display.HTML object>"
            ],
            "text/html": [
              "<video alt=\"videos/gw.mp4\" autoplay\n",
              "                      loop controls style=\"height: 400px;\">\n",
              "                    <source src=\"data:video/mp4;base64,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\" type=\"video/mp4\" />\n",
              "                 </video>"
            ]
          },
          "metadata": {}
        }
      ]
    },
    {
      "cell_type": "markdown",
      "metadata": {
        "id": "UKINsa_yGLGL"
      },
      "source": [
        "## Question 2.2\n",
        "\n",
        "Suppose that $\\hat{P}$ and $\\hat{R}$ are estimated from a dataset of exactly $N$ i.i.d. samples from **each** state-action pair. This means that, for each $(s,a)$, we have $N$ samples $\\{(s_1',r_1, \\dots, s_N', r_N\\}$, where $s_i' \\sim P(\\cdot | s,a)$ and $r_i \\sim R(s,a)$ for $i=1,\\dots,N$, and\n",
        "$$ \\hat{P}(s'|s,a) = \\frac{1}{N}\\sum_{i=1}^N \\mathbb{1}(s_i' = s'), $$\n",
        "$$ \\hat{R}(s,a) = \\frac{1}{N}\\sum_{i=1}^N r_i.$$\n",
        "Suppose that $R$ is a distribution with support in $[0,1]$. Let $\\hat{V}$ be the optimal value function computed in the empirical MDP (i.e., the one with transitions $\\hat{P}$ and rewards $\\hat{R}$). For any $\\delta\\in(0,1)$, derive an upper bound to the error\n",
        "\n",
        "$$ \\| \\hat{V} - V^* \\|_\\infty $$\n",
        "\n",
        "which holds with probability at least $1-\\delta$.\n",
        "\n",
        "**Note** Your bound should only depend on deterministic quantities like $N$, $\\gamma$, $\\delta$, $S$, $A$. It should *not* dependent on the actual random samples.\n",
        "\n",
        "**Hint** The following two inequalities may be helpful.\n",
        "\n",
        "1. **A (simplified) lemma**. For any state $\\bar{s}$,\n",
        "\n",
        "$$ |\\hat{V}(\\bar{s}) - V^*(\\bar{s})| \\leq \\frac{1}{1-\\gamma}\\max_{s,a} \\left| R(s,a) - \\hat{R}(s,a) + \\gamma \\sum_{s'}(P(s'|s,a) - \\hat{P}(s'|s,a)) V^*(s') \\right|$$\n",
        "\n",
        "2. **Hoeffding's inequality**. Let $X_1, \\dots X_N$ be $N$ i.i.d. random variables bounded in the interval $[0,b]$ for some $b>0$. Let $\\bar{X} = \\frac{1}{N}\\sum_{i=1}^N X_i$ be the empirical mean. Then, for any $\\epsilon > 0$,\n",
        "\n",
        "$$ \\mathbb{P}(|\\bar{X} - \\mathbb{E}[\\bar{X}]| > \\epsilon) \\leq 2e^{-\\frac{2N\\epsilon^2}{b^2}}.$$"
      ]
    },
    {
      "cell_type": "markdown",
      "metadata": {
        "id": "fKmdulLaMoiN"
      },
      "source": [
        "### **Answer**\n",
        "\n",
        "Basically, we want to write an inequality of this form:\n",
        "\n",
        "$$ \\mathbb{P}(\\| \\hat{V} - V^* \\|_\\infty> f(\\delta)) \\leq \\delta $$\n",
        "\n",
        "With some function $f(\\delta)$ that only depends on $ \\delta $ (and maybe some constants of the problem) that we have to find.\n",
        "</br>\n",
        "First, using the first lemma:\n",
        "$$ \\mathbb{P}(\\| \\hat{V} - V^* \\|_\\infty> \\epsilon) \\leq \\mathbb{P}(\\max_{s,a} |X(s,a) - \\mathbb{E}[X(s,a)]|>\\epsilon')$$\n",
        "with $\\epsilon '= (1-\\gamma) \\epsilon $ and $X(s,a) = \\hat{R}(s,a) + \\gamma\\sum_{s'}\\hat{P}(s'|s,a)V^*(s')$, which can be written as $X(s,a) = \\frac{1}{N}\\sum_i (r_i + \\gamma V^*(s_i'))$. Furthermore:\n",
        "$$(\\max_{s,a} |X(s,a) - \\mathbb{E}[X(s,a)]|>\\epsilon')=\\bigcup_{s, a} (|X(s,a) - \\mathbb{E}[X(s,a)]|>\\epsilon')$$\n",
        "By upper bounding the probability of the union by the sum of the probabilities:\n",
        "$$\\mathbb{P}(\\| \\hat{V} - V^* \\|_\\infty> \\epsilon) \\leq \\sum_{s,a} \\mathbb{P}(|X(s,a) - \\mathbb{E}[X(s,a)]|>\\epsilon')$$\n",
        "Because the $(r_i, s_i')$ are i.i.d. we should use Hoeffding's lemma on each $(s,a)$:\n",
        "$$\\mathbb{P}(\\| \\hat{V} - V^* \\|_\\infty> \\epsilon) \\leq 2|S||A|e^{-2N(1-\\gamma)^4\\epsilon^2}$$\n",
        "Because here each $r_i$ has support in $[0,1]$ and because the actual reward is bounded by one $V^*(s) \\leq \\frac{1}{1-\\gamma}$ for any state $s$.\n",
        "</br>\n",
        "Writing $\\delta = 2|S||A|e^{-2N(1-\\gamma)^4\\epsilon^2}$, we eventually get :\n",
        "$$\\mathbb{P}(\\| \\hat{V} - V^* \\|_\\infty >\\sqrt{\\frac{\\log(\\frac{1}{\\delta}) + \\log(2|S||A|)}{2N(1-\\gamma)^4}}) \\leq \\delta$$\n",
        "\n"
      ]
    },
    {
      "cell_type": "markdown",
      "metadata": {
        "id": "tpqwCBG2MwxO"
      },
      "source": [
        "## Question 2.3\n",
        "\n",
        "Suppose once again that we are given a dataset of $N$ samples in the form of tuples $(s_i,a_i,s_i',r_i)$. We know that each tuple contains a valid transition from the true MDP, i.e., $s_i' \\sim P(\\cdot | s_i, a_i)$ and $r_i \\sim R(s_i,a_i)$, while the state-action pairs $(s_i,a_i)$ from which the transition started can be arbitrary.\n",
        "\n",
        "Suppose we want to apply Q-learning to this MDP. Can you think of a way to leverage this offline data to improve the sample-efficiency of the algorithm? What if we were using SARSA instead?"
      ]
    },
    {
      "cell_type": "markdown",
      "metadata": {
        "id": "mbYTKetHOYU_"
      },
      "source": [
        "### **Answer**\n",
        "\n",
        "For Q-learning, we could use our dataset to observe next state and reward according to our estimates of the parameters $P, R$, if we have a correspoding  transition in our dataset. In fact this would delete the cost of actually doing the action in the environment."
      ]
    },
    {
      "cell_type": "markdown",
      "metadata": {
        "id": "542QxKsSOs21"
      },
      "source": [
        "# Part 3 - RL with Function Approximation"
      ]
    },
    {
      "cell_type": "markdown",
      "metadata": {
        "id": "OiGZBiJ4PiIE"
      },
      "source": [
        "## Question 3.1\n",
        "\n",
        "Given a datset $(s_i, a_i, r_i, s_i')$ of (states, actions, rewards, next states), the Fitted Q-Iteration (FQI) algorithm proceeds as follows:\n",
        "\n",
        "\n",
        "* We start from a $Q$ function $Q_0 \\in \\mathcal{F}$, where $\\mathcal{F}$ is a function space;\n",
        "* At every iteration $k$, we compute $Q_{k+1}$ as:\n",
        "\n",
        "$$\n",
        "Q_{k+1}\\in\\arg\\min_{f\\in\\mathcal{F}} \\frac{1}{2}\\sum_{i=1}^N\n",
        "\\left(\n",
        "  f(s_i, a_i) - y_i^k\n",
        "\\right)^2 + \\lambda \\Omega(f)\n",
        "$$\n",
        "where $y_i^k = r_i + \\gamma \\max_{a'}Q_k(s_i', a')$, $\\Omega(f)$ is a regularization term and $\\lambda > 0$ is the regularization coefficient.\n",
        "\n",
        "\n",
        "Consider FQI with *linear* function approximation. That is, for a given feature map $\\phi : S \\rightarrow \\mathbb{R}^d$, we consider a parametric family of $Q$ functions $Q_\\theta(s,a) = \\phi(s)^T\\theta_a$ for $\\theta_a\\in\\mathbb{R}^d$. Suppose we are applying FQI on a given dataset of $N$ tuples of the form $(s_i, a_i, r_i, s_i')$ and we are at the $k$-th iteration. Let $\\theta_k \\in\\mathbb{R}^{d \\times A}$ be our current parameter. Derive the *closed-form* update to find $\\theta_{k+1}$, using $\\frac{1}{2}\\sum_a ||\\theta_a||_2^2$ as regularization."
      ]
    },
    {
      "cell_type": "markdown",
      "metadata": {
        "id": "7jx7aE41DkEM"
      },
      "source": [
        "### **Answer**\n",
        "\n",
        "Let $F_k(\\theta)= \\frac{1}{2}\\sum_{i=1}^N \\left(\\phi(s_i)^T\\theta_{a_i}- y_i^k\\right)^2 +\\lambda \\Omega(f)$ , with $\\theta$ a parameter of dimensions $(d, A)$. We want to find a minimizer of $F_k$ so we set $\\nabla_{\\theta_a}F_k(\\theta) = 0$ for every $a \\in A$:\n",
        "$$\\nabla_{\\theta_a}(\\theta) = 0$$\n",
        "$$\\Longleftrightarrow \\sum_{i=1, a_i=a}^N{\\phi(s_i)(\\phi(s_i)^T\\theta_a - y_i^k)} + \\lambda\\theta_a = 0$$\n",
        "$$\\Longleftrightarrow [\\lambda I_d + \\sum_{i=1, a_i=a}^N{\\phi(s_i)\\phi(s_i)^T]}\\theta_a= \\sum_{i=1, a_i=a}^N{\\phi(s_i)y_i^k} $$\n",
        "$$\\Longleftrightarrow \\theta_a= [\\lambda I_d + \\sum_{i=1, a_i=a}^N{\\phi(s_i)\\phi(s_i)^T}]^{-1}\\sum_{i=1, a_i=a}^N{\\phi(s_i)y_i^k} $$\n",
        "\n",
        "which holds for every $a$. So the update is:\n",
        "$$ \\forall a, \\space \\theta_{k+1,a}= [\\lambda I_d + \\sum_{i=1, a_i=a}^N{\\phi(s_i)\\phi(s_i)^T}]^{-1}\\sum_{i=1, a_i=a}^N{\\phi(s_i)y_i^k} $$\n",
        "where $\\theta_k$ is 'hidden' in $y_i^k$."
      ]
    },
    {
      "cell_type": "markdown",
      "metadata": {
        "id": "ewHzjm7MVGBg"
      },
      "source": [
        "## Question 3.2\n",
        "\n",
        "The code below creates a larger gridworld (with more states than the one used in the previous questions), and defines a feature map. Implement linear FQI to this environment (in the function `linear_fqi()` below), and compare the approximated $Q$ function to the optimal $Q$ function computed with value iteration.\n",
        "\n",
        "Can you improve the feature map in order to reduce the approximation error?"
      ]
    },
    {
      "cell_type": "markdown",
      "metadata": {
        "id": "Tu4g-HSnEcBs"
      },
      "source": [
        "### **Answer**\n",
        "\n",
        "Increasing the value of $dim$ and the value of $sigma$ can help reducing the approximation error though it might also lead to overfitting. We can also increase the number of samples taken to better estimate the parameters $P, R$ of our MDP. In our case increasing $dim$ from $15$ to $50$ and $n$_$samples$ from $500$ to $2000$ led already to decent results, the agent reaching the goal.\n",
        "</br>\n",
        "Moreover, we could change the similarity matrix has to better take into account the walls. For example, the $dist$ value in the similarity matrix for two points of the grid could be set to the length of the shortest path in the associated graph of the grid or even to infinity in order to discourage the agent to take an action that will make him go into the wall."
      ]
    },
    {
      "cell_type": "code",
      "metadata": {
        "id": "ZovF3VXOVfCs"
      },
      "source": [
        "def get_large_gridworld():\n",
        "  \"\"\"Creates an instance of a grid-world MDP with more states.\"\"\"\n",
        "  walls = [(ii, 10) for ii in range(15) if (ii != 7 and ii != 8)]\n",
        "  env = GridWorld(\n",
        "      nrows=15,\n",
        "      ncols=15,\n",
        "      reward_at = {(14, 14):1.0},\n",
        "      walls=tuple(walls),\n",
        "      success_probability=0.9,\n",
        "      terminal_states=((14, 14),)\n",
        "  )\n",
        "  return env\n",
        "\n",
        "\n",
        "class GridWorldFeatureMap:\n",
        "  \"\"\"Create features for state-action pairs\n",
        "  \n",
        "  Args:\n",
        "    dim: int\n",
        "      Feature dimension\n",
        "    sigma: float\n",
        "      RBF kernel bandwidth\n",
        "  \"\"\"\n",
        "  def __init__(self, env, dim=15, sigma=0.25):\n",
        "    self.index2coord = env.index2coord\n",
        "    self.n_states = env.Ns\n",
        "    self.n_actions = env.Na\n",
        "    self.dim = dim\n",
        "    self.sigma = sigma\n",
        "\n",
        "    n_rows = env.nrows\n",
        "    n_cols = env.ncols\n",
        "\n",
        "    # build similarity matrix\n",
        "    sim_matrix = np.zeros((self.n_states, self.n_states))\n",
        "    for ii in range(self.n_states):\n",
        "        row_ii, col_ii = self.index2coord[ii]\n",
        "        x_ii = row_ii / n_rows\n",
        "        y_ii = col_ii / n_cols\n",
        "        for jj in range(self.n_states):\n",
        "            row_jj, col_jj = self.index2coord[jj]\n",
        "            x_jj = row_jj / n_rows\n",
        "            y_jj = col_jj / n_cols\n",
        "            dist = np.sqrt((x_jj - x_ii) ** 2.0 + (y_jj - y_ii) ** 2.0)\n",
        "            sim_matrix[ii, jj] = np.exp(-(dist / sigma) ** 2.0)\n",
        "\n",
        "    # factorize similarity matrix to obtain features\n",
        "    uu, ss, vh = np.linalg.svd(sim_matrix, hermitian=True)\n",
        "    self.feats = vh[:dim, :]\n",
        "\n",
        "  def map(self, observation):\n",
        "    feat = self.feats[:, observation].copy()\n",
        "    return feat"
      ],
      "execution_count": 11,
      "outputs": []
    },
    {
      "cell_type": "code",
      "metadata": {
        "id": "InCfu7F9-TbS",
        "colab": {
          "base_uri": "https://localhost:8080/",
          "height": 512
        },
        "outputId": "5b352673-af0d-4986-9116-f31d90e9e867"
      },
      "source": [
        "env = get_large_gridworld()\n",
        "feat_map = GridWorldFeatureMap(env)\n",
        "\n",
        "# Visualize large gridworld\n",
        "render_policy(env)\n",
        "\n",
        "# The features have dimension (feature_dim).\n",
        "feature_example = feat_map.map(1) # feature representation of s=1\n",
        "print(feature_example)\n",
        "\n",
        "# Initial vector theta representing the Q function\n",
        "theta = np.zeros((feat_map.dim, env.action_space.n))\n",
        "print(theta.shape)\n",
        "print(feature_example @ theta) # approximation of Q(s=1, a)"
      ],
      "execution_count": 12,
      "outputs": [
        {
          "output_type": "display_data",
          "data": {
            "text/plain": [
              "<IPython.core.display.HTML object>"
            ],
            "text/html": [
              "<video alt=\"videos/gw.mp4\" autoplay\n",
              "                      loop controls style=\"height: 400px;\">\n",
              "                    <source src=\"data:video/mp4;base64,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\" type=\"video/mp4\" />\n",
              "                 </video>"
            ]
          },
          "metadata": {}
        },
        {
          "output_type": "stream",
          "name": "stdout",
          "text": [
            "[-0.02850699  0.063555   -0.02169407 -0.06441918  0.04505794 -0.07537777\n",
            "  0.08506473 -0.09325287  0.09644275 -0.00535101  0.11632395 -0.13074085\n",
            "  0.00921342 -0.13853662  0.07118419]\n",
            "(15, 4)\n",
            "[0. 0. 0. 0.]\n"
          ]
        }
      ]
    },
    {
      "cell_type": "code",
      "metadata": {
        "id": "p21KMmruugO1",
        "colab": {
          "base_uri": "https://localhost:8080/",
          "height": 687
        },
        "outputId": "a20fe743-b6b5-455f-b2d4-d4236820992a"
      },
      "source": [
        "def linear_fqi(env, feat_map, num_iterations, lambd=0.1, gamma=0.95):\n",
        "  \"\"\"\n",
        "  # Linear FQI implementation\n",
        "  # TO BE COMPLETED\n",
        "  \"\"\"\n",
        "\n",
        "  # get a dataset\n",
        "  n_samples = 2000\n",
        "  dataset = get_uniform_dataset(env, n_samples=n_samples)\n",
        "  # OR dataset = get_random_policy_dataset(env, n_samples=...)\n",
        "\n",
        "\n",
        "  theta = np.zeros((feat_map.dim, env.Na))\n",
        "  M = np.array([np.array([[feat_map.map(dataset[0][i])[k]*feat_map.map(dataset[0][i])[l] for l in range(feat_map.dim)] for k in range(feat_map.dim)]) for i in range(n_samples)])\n",
        "  S = np.array([np.sum(np.array([M[i] for i in range(n_samples) if dataset[1][i]==a]), axis=0) for a in range(env.Na)])\n",
        "  X = np.array([np.linalg.inv(lambd*np.eye(feat_map.dim) + S[a]) for a in range(env.Na)])\n",
        "  print(S.shape, X.shape)\n",
        "  for it in range(num_iterations):\n",
        "    yk = np.array([dataset[2][i]+gamma*np.max(np.array([feat_map.map(dataset[3][i]).T@theta[:,a] for a in range(env.Na)])) for i in range(n_samples)])\n",
        "    for a in range(env.Na):\n",
        "      Y = np.sum(np.array([yk[i]*feat_map.map(dataset[0][i]) for i in range(n_samples) if dataset[1][i]==a]), axis=0)\n",
        "      theta[:, a] = X[a]@Y\n",
        "  return theta\n",
        "\n",
        "# ----------------------------\n",
        "# Environment and feature map\n",
        "# ----------------------------\n",
        "env = get_large_gridworld()\n",
        "# you can change the parameters of the feature map, and even try other maps!\n",
        "feat_map = GridWorldFeatureMap(env, dim=50, sigma=0.25)\n",
        "\n",
        "# -------\n",
        "# Run FQI\n",
        "# -------\n",
        "theta = linear_fqi(env, feat_map, num_iterations=100)\n",
        "\n",
        "# Compute and run greedy policy\n",
        "Q_fqi = np.zeros((env.Ns, env.Na))\n",
        "for ss in range(env.Ns):\n",
        "  state_feat = feat_map.map(ss)\n",
        "  Q_fqi[ss, :] = state_feat @ theta\n",
        "\n",
        "V_fqi = Q_fqi.max(axis=1)\n",
        "policy_fqi = Q_fqi.argmax(axis=1)\n",
        "render_policy(env, policy_fqi, horizon=100)\n",
        "\n",
        "# Visualize the approximate value function in the gridworld.\n",
        "img = env.get_layout_img(V_fqi)    \n",
        "plt.imshow(img)\n",
        "plt.show()"
      ],
      "execution_count": 13,
      "outputs": [
        {
          "output_type": "stream",
          "name": "stdout",
          "text": [
            "(4, 50, 50) (4, 50, 50)\n"
          ]
        },
        {
          "output_type": "display_data",
          "data": {
            "text/plain": [
              "<IPython.core.display.HTML object>"
            ],
            "text/html": [
              "<video alt=\"videos/gw.mp4\" autoplay\n",
              "                      loop controls style=\"height: 400px;\">\n",
              "                    <source src=\"data:video/mp4;base64,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\" type=\"video/mp4\" />\n",
              "                 </video>"
            ]
          },
          "metadata": {}
        },
        {
          "output_type": "display_data",
          "data": {
            "text/plain": [
              "<Figure size 432x288 with 1 Axes>"
            ],
            "image/png": "[encoded data removed]"
          },
          "metadata": {
            "needs_background": "light"
          }
        }
      ]
    }
  ]
}