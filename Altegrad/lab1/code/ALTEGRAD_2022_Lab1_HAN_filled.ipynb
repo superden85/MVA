{
  "cells": [
    {
      "cell_type": "markdown",
      "metadata": {
        "id": "MuVouapRmjEW"
      },
      "source": [
        "<center><h2>ALTeGraD 2022<br>Lab Session 1: HAN</h2><h3>Hierarchical Attention Network Using GRU</h3> 27 / 10 / 2022<br> M. Kamal Eddine, H. Abdine<br><br>\n",
        "\n",
        "\n",
        "<b>Student name:</b> [Denis Duval]\n",
        "\n",
        "\n",
        "</center>\n",
        "In this lab, you will get familiar with recurrent neural networks (RNNs), self-attention, and the HAN architecture <b>(Yang et al. 2016)</b> using PyTorch. In this architecture, sentence embeddings are first individually produced, and a document embedding is then computed from the sentence embeddings.<br>\n",
        "<b>The deadline for this lab is November 14, 2022 11:59 PM.</b> More details about the submission and the architecture for this lab can be found in the handout PDF.\n"
      ]
    },
    {
      "cell_type": "markdown",
      "metadata": {
        "id": "xJaSJaIP1xRy"
      },
      "source": [
        "### = = = = =  Attention Layer = = = = =\n",
        "In thi section, you will fill the gaps in the code to implement the self-attention layer. This layer will be used later to define the HAN architecture. The basic idea behind attention is that rather than considering the last annotation $h_T$ as a summary of the entire sequence, which is prone to information loss, the annotations at <i>all</i> time steps are used.\n",
        "The self-attention mechanism computes a weighted sum of the annotations, where the weights are determined by trainable parameters. Refer to <b>section 2.2</b> in the handout for the theoretical part, it will be needed to finish the first task.\n",
        "\n",
        "#### <b>Task 1:</b>"
      ]
    },
    {
      "cell_type": "code",
      "execution_count": 1,
      "metadata": {
        "id": "yoM7H0KQncpF"
      },
      "outputs": [],
      "source": [
        "import torch\n",
        "from torch import nn\n",
        "from torch.utils.data import DataLoader\n",
        "\n",
        "class AttentionWithContext(nn.Module):\n",
        "    \"\"\"\n",
        "    Follows the work of Yang et al. [https://www.cs.cmu.edu/~diyiy/docs/naacl16.pdf]\n",
        "    \"Hierarchical Attention Networks for Document Classification\"\n",
        "    by using a context vector to assist the attention\n",
        "    # Input shape\n",
        "        3D tensor with shape: `(samples, steps, features)`.\n",
        "    # Output shape\n",
        "        2D tensor with shape: `(samples, features)`.\n",
        "    \"\"\"\n",
        "    \n",
        "    def __init__(self, input_shape, return_coefficients=False, bias=True):\n",
        "        super(AttentionWithContext, self).__init__()\n",
        "        self.return_coefficients = return_coefficients\n",
        "\n",
        "        self.W = nn.Linear(input_shape, input_shape, bias=bias)\n",
        "        self.tanh = nn.Tanh()\n",
        "        self.u = nn.Linear(input_shape, 1, bias=False)\n",
        "\n",
        "        self.init_weights()\n",
        "\n",
        "    def init_weights(self):\n",
        "        initrange = 0.1\n",
        "        self.W.weight.data.uniform_(-initrange, initrange)\n",
        "        self.W.bias.data.uniform_(-initrange, initrange)\n",
        "        self.u.weight.data.uniform_(-initrange, initrange)\n",
        "    \n",
        "    def generate_square_subsequent_mask(self, sz):\n",
        "        # do not pass the mask to the next layers\n",
        "        mask = (torch.triu(torch.ones(sz, sz)) == 1).transpose(0, 1)\n",
        "        mask = (\n",
        "            mask.float()\n",
        "            .masked_fill(mask == 0, float(\"-inf\"))\n",
        "            .masked_fill(mask == 1, float(0.0))\n",
        "        )\n",
        "        return mask\n",
        "    \n",
        "    def forward(self, x, mask=None):\n",
        "        uit = self.W(x)# fill the gap # compute uit = W . x  where x represents ht\n",
        "        uit = self.tanh(uit)\n",
        "        ait = self.u(uit)\n",
        "        a = torch.exp(ait)\n",
        "        \n",
        "        # apply mask after the exp. will be re-normalized next\n",
        "        if mask is not None:\n",
        "            a = a*mask.double()\n",
        "        \n",
        "        # in some cases especially in the early stages of training the sum may be almost zero\n",
        "        # and this results in NaN's. A workaround is to add a very small positive number ε to the sum.\n",
        "        eps = 1e-9\n",
        "        a = a / (torch.sum(a, axis=1, keepdim=True) + eps)\n",
        "        weighted_input = a*x### fill the gap ### # compute the attentional vector\n",
        "        if self.return_coefficients:\n",
        "            return  [torch.sum(weighted_input, axis=1), a]### [attentional vector, coefficients] ### use torch.sum to compute s\n",
        "        else:\n",
        "            return  torch.sum(weighted_input, axis=1)### attentional vector only ###"
      ]
    },
    {
      "cell_type": "markdown",
      "metadata": {
        "id": "DgTP6GrOHlss"
      },
      "source": [
        "### = = = = = Parameters = = = = =\n",
        "In this section, we define the parameters to use in our training. Such as data path, the embedding dimention <b>d</b>, the GRU layer dimensionality <b>n_units</b>, etc..<br>\n",
        "The parameter <b>device</b> is used to train the model on GPU if it is available. for this purpose, if you are using Google Colab, switch your runtime to a GPU runtime to train the model with a maximum speed.<br>\n",
        "<b>Bonus question:</b> What is the purpose of the parameter <i>my_patience</i>?"
      ]
    },
    {
      "cell_type": "markdown",
      "source": [
        "#Answer\n",
        "This parameter is used to not wait the end of the training if we're overfitting for example, by stopping execution if the accuracy did not improve."
      ],
      "metadata": {
        "id": "zXhetrVc1_A2"
      }
    },
    {
      "cell_type": "code",
      "execution_count": 2,
      "metadata": {
        "id": "czsVjxgYnczb"
      },
      "outputs": [],
      "source": [
        "import sys\n",
        "import json\n",
        "import operator\n",
        "import numpy as np\n",
        "\n",
        "path_root = ''\n",
        "path_to_data = path_root + 'data/'\n",
        "\n",
        "d = 30 # dimensionality of word embeddings\n",
        "n_units = 50 # RNN layer dimensionality\n",
        "drop_rate = 0.5 # dropout\n",
        "mfw_idx = 2 # index of the most frequent words in the dictionary \n",
        "            # 0 is for the special padding token\n",
        "            # 1 is for the special out-of-vocabulary token\n",
        "\n",
        "padding_idx = 0\n",
        "oov_idx = 1\n",
        "batch_size = 64\n",
        "nb_epochs = 15\n",
        "my_patience = 2 # for early stopping strategy\n",
        "device = torch.device(\"cuda\" if torch.cuda.is_available() else \"cpu\")"
      ]
    },
    {
      "cell_type": "markdown",
      "metadata": {
        "id": "K8Vot_C7Hlst"
      },
      "source": [
        "### = = = = = Data Loading = = = = =\n",
        "In this section we will use first <b>wget</b> to download the data the we will load it using numpy in the first cell. While in the second cell, we will use these data to define our Pytorch data loader. Note that the data is already preprocessed, tokenized and padded.<br><br>\n",
        "<b>Note: if you are running your notebook on Windows or on MacOS, <i>wget</i> will probably not work if you did not install it manually. In this case, use the provided link to download the data and change the <i>path_to_data</i> in the <i>Parameters</i> section accordingly. Otherwise, you will face no problem on Ubuntu and Google Colab.</b>\n",
        "\n",
        "#### <b>Task 2.1:</b>"
      ]
    },
    {
      "cell_type": "code",
      "execution_count": 3,
      "metadata": {
        "id": "UD6hRh0OHlst",
        "colab": {
          "base_uri": "https://localhost:8080/"
        },
        "outputId": "af7d07cd-59f2-4b23-bbd7-8db773c39e20"
      },
      "outputs": [
        {
          "output_type": "stream",
          "name": "stdout",
          "text": [
            "--2022-11-14 10:05:05--  https://onedrive.live.com/download?cid=AE69638675180117&resid=AE69638675180117%2199289&authkey=AHgxt3xmgG0Fu5A\n",
            "Resolving onedrive.live.com (onedrive.live.com)... 13.107.42.13\n",
            "Connecting to onedrive.live.com (onedrive.live.com)|13.107.42.13|:443... connected.\n",
            "HTTP request sent, awaiting response... 302 Found\n",
            "Location: https://vqtlqw.am.files.1drv.com/y4m4C5YByHiTeGexkMClzhB2v29svuESD4MEOLJP95-sQlOL2VF0Z76oSsEDL0szpvtt8DrXzmmWH2_oD847fLsNPc68wK2ls_kE9WACOd3Y_i6zDeUv_pggxEwtjDkfJqsFXrE48Tgszx9UFX5iPpSOAHSh4OTGu6AZ5BF-gRyO0TJaY5NfAkoHGw11qc2cLTheYcVKsIHlrzMFoWL-_e01A/data.zip?download&psid=1 [following]\n",
            "--2022-11-14 10:05:05--  https://vqtlqw.am.files.1drv.com/y4m4C5YByHiTeGexkMClzhB2v29svuESD4MEOLJP95-sQlOL2VF0Z76oSsEDL0szpvtt8DrXzmmWH2_oD847fLsNPc68wK2ls_kE9WACOd3Y_i6zDeUv_pggxEwtjDkfJqsFXrE48Tgszx9UFX5iPpSOAHSh4OTGu6AZ5BF-gRyO0TJaY5NfAkoHGw11qc2cLTheYcVKsIHlrzMFoWL-_e01A/data.zip?download&psid=1\n",
            "Resolving vqtlqw.am.files.1drv.com (vqtlqw.am.files.1drv.com)... 13.107.42.12\n",
            "Connecting to vqtlqw.am.files.1drv.com (vqtlqw.am.files.1drv.com)|13.107.42.12|:443... connected.\n",
            "HTTP request sent, awaiting response... 200 OK\n",
            "Length: 12650196 (12M) [application/zip]\n",
            "Saving to: ‘data.zip’\n",
            "\n",
            "data.zip            100%[===================>]  12.06M  7.32MB/s    in 1.6s    \n",
            "\n",
            "2022-11-14 10:05:09 (7.32 MB/s) - ‘data.zip’ saved [12650196/12650196]\n",
            "\n",
            "Archive:  data.zip\n",
            "   creating: data/\n",
            "  inflating: __MACOSX/._data         \n",
            "  inflating: data/labels_train.npy   \n",
            "  inflating: __MACOSX/data/._labels_train.npy  \n",
            "  inflating: data/docs_test.npy      \n",
            "  inflating: __MACOSX/data/._docs_test.npy  \n",
            "  inflating: data/labels_test.npy    \n",
            "  inflating: __MACOSX/data/._labels_test.npy  \n",
            "  inflating: data/word_to_index.json  \n",
            "  inflating: __MACOSX/data/._word_to_index.json  \n",
            "  inflating: data/docs_train.npy     \n",
            "  inflating: __MACOSX/data/._docs_train.npy  \n"
          ]
        }
      ],
      "source": [
        "!wget -c \"https://onedrive.live.com/download?cid=AE69638675180117&resid=AE69638675180117%2199289&authkey=AHgxt3xmgG0Fu5A\" -O \"data.zip\"\n",
        "!unzip data.zip\n",
        "\n",
        "my_docs_array_train = np.load(path_to_data + 'docs_train.npy')\n",
        "my_docs_array_test = np.load(path_to_data + 'docs_test.npy')\n",
        "\n",
        "my_labels_array_train = np.load(path_to_data + 'labels_train.npy')\n",
        "my_labels_array_test = np.load(path_to_data + 'labels_test.npy')\n",
        "\n",
        "# load dictionary of word indexes (sorted by decreasing frequency across the corpus)\n",
        "with open(path_to_data + 'word_to_index.json', 'r') as my_file:\n",
        "    word_to_index = json.load(my_file)\n",
        "\n",
        "# invert mapping\n",
        "index_to_word = {v: k for k, v in word_to_index.items()}### fill the gap (use a dict comprehension) ###\n",
        "input_size = my_docs_array_train.shape"
      ]
    },
    {
      "cell_type": "code",
      "execution_count": 4,
      "metadata": {
        "id": "DpsCvmaiJfZc"
      },
      "outputs": [],
      "source": [
        "import numpy\n",
        "import torch\n",
        "from torch.utils.data import DataLoader, Dataset\n",
        "\n",
        "\n",
        "class Dataset_(Dataset):\n",
        "    def __init__(self, x, y):\n",
        "        self.documents = x\n",
        "        self.labels = y\n",
        "\n",
        "    def __len__(self):\n",
        "        return len(self.documents)\n",
        "\n",
        "    def __getitem__(self, index):\n",
        "        document = self.documents[index]\n",
        "        label = self.labels[index] \n",
        "        sample = {\n",
        "            \"document\": torch.tensor(document),\n",
        "            \"label\": torch.tensor(label),\n",
        "            }\n",
        "        return sample\n",
        "\n",
        "\n",
        "def get_loader(x, y, batch_size=32):\n",
        "    dataset = Dataset_(x, y)\n",
        "    data_loader = DataLoader(dataset=dataset,\n",
        "                            batch_size=batch_size,\n",
        "                            shuffle=True,\n",
        "                            pin_memory=True,\n",
        "                            drop_last=True,\n",
        "                            )\n",
        "    return data_loader"
      ]
    },
    {
      "cell_type": "markdown",
      "metadata": {
        "id": "6rzqEGOdHlst"
      },
      "source": [
        "### = = = = = Defining Architecture = = = = =\n",
        "In this section, we define the HAN architecture. We start with <i>AttentionBiGRU</i> module in order to define the sentence encoder (check Figure 3 in the handout). Then, we define the <i>TimeDistributed</i> module to allow us to forward our input (batch of document) as to the sentence encoder as <b>batch of sentences</b>, where each sentence in the document will be considered as a time step. This module also reshape the output to a batch of timesteps representations per document. Finally we define the <b>HAN</b> architecture using <i>TimeDistributed</i>, <i>AttentionWithContext</i> and <i>GRU</i>.\n",
        "\n",
        "#### <b>Task 2.2:</b>"
      ]
    },
    {
      "cell_type": "code",
      "execution_count": 5,
      "metadata": {
        "id": "AMj9j1_pHlst"
      },
      "outputs": [],
      "source": [
        "class AttentionBiGRU(nn.Module):\n",
        "    def __init__(self, input_shape, n_units, index_to_word, dropout=0):\n",
        "        super(AttentionBiGRU, self).__init__()\n",
        "        self.embedding = nn.Embedding(len(index_to_word)+100,# fill the gap # vocab size\n",
        "                                      d, # dimensionality of embedding space\n",
        "                                      padding_idx=0)\n",
        "        self.dropout = nn.Dropout(drop_rate)\n",
        "        self.gru = nn.GRU(input_size=d,\n",
        "                          hidden_size=n_units,\n",
        "                          num_layers=1,\n",
        "                          bias=True,\n",
        "                          batch_first=True,\n",
        "                          bidirectional=True)\n",
        "        self.attention = AttentionWithContext(2*n_units,  # fill the gap # the input shape for the attention layer\n",
        "                                              return_coefficients=True)\n",
        "\n",
        "\n",
        "    def forward(self, sent_ints):\n",
        "        sent_wv = self.embedding(sent_ints)\n",
        "        sent_wv_dr = self.dropout(sent_wv)\n",
        "        sent_wa, _ =  self.gru(sent_wv_dr)# fill the gap # RNN layer\n",
        "        sent_att_vec, word_att_coeffs =  self.attention.forward(sent_wa)# fill the gap # attentional vector for the sent\n",
        "        sent_att_vec_dr = self.dropout(sent_att_vec)     \n",
        "        return sent_att_vec_dr, word_att_coeffs\n",
        "\n",
        "class TimeDistributed(nn.Module):\n",
        "    def __init__(self, module, batch_first=False):\n",
        "        super(TimeDistributed, self).__init__()\n",
        "        self.module = module\n",
        "        self.batch_first = batch_first\n",
        "\n",
        "    def forward(self, x):\n",
        "        if len(x.size()) <= 2:\n",
        "            return self.module(x)\n",
        "        # Squash samples and timesteps into a single axis\n",
        "        x_reshape = x.contiguous().view(-1, x.size(-1))  # (samples * timesteps, input_size) (224, 30)\n",
        "        sent_att_vec_dr, word_att_coeffs = self.module(x_reshape)\n",
        "        # We have to reshape the output\n",
        "        if self.batch_first:\n",
        "            sent_att_vec_dr = sent_att_vec_dr.contiguous().view(x.size(0), -1, sent_att_vec_dr.size(-1))  # (samples, timesteps, output_size)\n",
        "            word_att_coeffs = word_att_coeffs.contiguous().view(x.size(0), -1, word_att_coeffs.size(-1))  # (samples, timesteps, output_size)\n",
        "        else:\n",
        "            sent_att_vec_dr = sent_att_vec_dr.view(-1, x.size(1), sent_att_vec_dr.size(-1))  # (timesteps, samples, output_size)\n",
        "            word_att_coeffs = word_att_coeffs.view(-1, x.size(1), word_att_coeffs.size(-1))  # (timesteps, samples, output_size)\n",
        "        return sent_att_vec_dr, word_att_coeffs      \n",
        "\n",
        "class HAN(nn.Module):\n",
        "    def __init__(self, input_shape, n_units, index_to_word, dropout=0):\n",
        "        super(HAN, self).__init__()\n",
        "        self.encoder = AttentionBiGRU(input_shape, n_units, index_to_word, dropout)\n",
        "        self.timeDistributed = TimeDistributed(self.encoder, True)\n",
        "        self.dropout = nn.Dropout(drop_rate)\n",
        "        self.gru = nn.GRU(input_size=2*n_units,# fill the gap # the input shape of GRU layer\n",
        "                          hidden_size=n_units,\n",
        "                          num_layers=1,\n",
        "                          bias=True,\n",
        "                          batch_first=True,\n",
        "                          bidirectional=True)\n",
        "        self.attention = AttentionWithContext(2*n_units, # fill the gap # the input shape of between-sentence attention layer\n",
        "                                              return_coefficients=True)\n",
        "        self.lin_out = nn.Linear(2*n_units,   # fill the gap # the input size of the last linear layer\n",
        "                                 1)\n",
        "        self.preds = nn.Sigmoid()\n",
        "\n",
        "    def forward(self, doc_ints):\n",
        "        sent_att_vecs_dr, word_att_coeffs = self.timeDistributed.forward(doc_ints)# fill the gap # get sentence representation\n",
        "        doc_sa, _ = self.gru(sent_att_vecs_dr)\n",
        "        doc_att_vec, sent_att_coeffs = self.attention(doc_sa)\n",
        "        doc_att_vec_dr = self.dropout(doc_att_vec)\n",
        "        doc_att_vec_dr = self.lin_out(doc_att_vec_dr)\n",
        "        return self.preds(doc_att_vec_dr), word_att_coeffs, sent_att_coeffs\n"
      ]
    },
    {
      "cell_type": "markdown",
      "metadata": {
        "id": "sgreR5AcHlst"
      },
      "source": [
        "### = = = = = Training = = = = =\n",
        "In this section, we have two code cells. In the first one, we define our evaluation function to compute the training and validation accuracies. While in the second one, we define our model, loss and optimizer and train the model over <i>nb_epochs</i>.<br>\n",
        "<b>Bonus task:</b> use <a href=\"https://pytorch.org/tutorials/recipes/recipes/tensorboard_with_pytorch.html\" target=\"_blank\">tensorboard</a> to visualize the loss and the validation accuray during the training.\n",
        "\n",
        "#### <b>Task 2.3:</b>"
      ]
    },
    {
      "cell_type": "code",
      "source": [
        "!pip install torch torchvision\n",
        "from torch.utils.tensorboard import SummaryWriter\n",
        "writer = SummaryWriter()"
      ],
      "metadata": {
        "colab": {
          "base_uri": "https://localhost:8080/"
        },
        "id": "LDBxYSaomtiu",
        "outputId": "a85a8359-b313-4f7d-d9d3-0b3fa5ef7526"
      },
      "execution_count": 28,
      "outputs": [
        {
          "output_type": "stream",
          "name": "stdout",
          "text": [
            "Looking in indexes: https://pypi.org/simple, https://us-python.pkg.dev/colab-wheels/public/simple/\n",
            "Requirement already satisfied: torch in /usr/local/lib/python3.7/dist-packages (1.12.1+cu113)\n",
            "Requirement already satisfied: torchvision in /usr/local/lib/python3.7/dist-packages (0.13.1+cu113)\n",
            "Requirement already satisfied: typing-extensions in /usr/local/lib/python3.7/dist-packages (from torch) (4.1.1)\n",
            "Requirement already satisfied: pillow!=8.3.*,>=5.3.0 in /usr/local/lib/python3.7/dist-packages (from torchvision) (7.1.2)\n",
            "Requirement already satisfied: numpy in /usr/local/lib/python3.7/dist-packages (from torchvision) (1.21.6)\n",
            "Requirement already satisfied: requests in /usr/local/lib/python3.7/dist-packages (from torchvision) (2.23.0)\n",
            "Requirement already satisfied: idna<3,>=2.5 in /usr/local/lib/python3.7/dist-packages (from requests->torchvision) (2.10)\n",
            "Requirement already satisfied: urllib3!=1.25.0,!=1.25.1,<1.26,>=1.21.1 in /usr/local/lib/python3.7/dist-packages (from requests->torchvision) (1.24.3)\n",
            "Requirement already satisfied: certifi>=2017.4.17 in /usr/local/lib/python3.7/dist-packages (from requests->torchvision) (2022.9.24)\n",
            "Requirement already satisfied: chardet<4,>=3.0.2 in /usr/local/lib/python3.7/dist-packages (from requests->torchvision) (3.0.4)\n"
          ]
        }
      ]
    },
    {
      "cell_type": "code",
      "execution_count": 6,
      "metadata": {
        "id": "ztF2Lkie-C25"
      },
      "outputs": [],
      "source": [
        "def evaluate_accuracy(data_loader, verbose=True):\n",
        "    model.eval()\n",
        "    total_loss = 0.0\n",
        "    ncorrect = ntotal = 0\n",
        "    with torch.no_grad():\n",
        "        for idx, data in enumerate(data_loader):\n",
        "            # inference \n",
        "            output = model(data[\"document\"].to(device))[0] \n",
        "            output = output[:, -1] # only last vector\n",
        "            # total number of examples\n",
        "            ntotal +=  output.shape[0]\n",
        "            # number of correct predictions \n",
        "            predictions = torch.round(output)\n",
        "            ncorrect += torch.sum(predictions==data[\"label\"].to(device))#fill me # number of correct prediction - hint: use torch.sum \n",
        "        acc = ncorrect.item() / ntotal\n",
        "        if verbose:\n",
        "          print(\"validation accuracy: {:3.2f}\".format(acc*100))\n",
        "        return acc"
      ]
    },
    {
      "cell_type": "code",
      "execution_count": 29,
      "metadata": {
        "id": "RRYiKhZEEidb",
        "colab": {
          "base_uri": "https://localhost:8080/"
        },
        "outputId": "8ec8f89c-25b0-4802-87a8-a83c3a802240"
      },
      "outputs": [
        {
          "output_type": "stream",
          "name": "stderr",
          "text": [
            "Epoch 1: 100%|██████████| 390/390 [00:06<00:00, 60.26batch/s, accuracy=59.3, loss=0.661]\n"
          ]
        },
        {
          "output_type": "stream",
          "name": "stdout",
          "text": [
            "===> Epoch 1 Complete: Avg. Loss: 0.6609, Validation Accuracy: 69.83%\n",
            "Validation accuracy improved, saving model...\n",
            "\n"
          ]
        },
        {
          "output_type": "stream",
          "name": "stderr",
          "text": [
            "Epoch 2: 100%|██████████| 390/390 [00:06<00:00, 61.64batch/s, accuracy=70.8, loss=0.564]\n"
          ]
        },
        {
          "output_type": "stream",
          "name": "stdout",
          "text": [
            "===> Epoch 2 Complete: Avg. Loss: 0.5635, Validation Accuracy: 75.66%\n",
            "Validation accuracy improved, saving model...\n",
            "\n"
          ]
        },
        {
          "output_type": "stream",
          "name": "stderr",
          "text": [
            "Epoch 3: 100%|██████████| 390/390 [00:06<00:00, 61.43batch/s, accuracy=75.7, loss=0.499]\n"
          ]
        },
        {
          "output_type": "stream",
          "name": "stdout",
          "text": [
            "===> Epoch 3 Complete: Avg. Loss: 0.4985, Validation Accuracy: 78.50%\n",
            "Validation accuracy improved, saving model...\n",
            "\n"
          ]
        },
        {
          "output_type": "stream",
          "name": "stderr",
          "text": [
            "Epoch 4: 100%|██████████| 390/390 [00:06<00:00, 62.36batch/s, accuracy=78.8, loss=0.457]\n"
          ]
        },
        {
          "output_type": "stream",
          "name": "stdout",
          "text": [
            "===> Epoch 4 Complete: Avg. Loss: 0.4575, Validation Accuracy: 80.56%\n",
            "Validation accuracy improved, saving model...\n",
            "\n"
          ]
        },
        {
          "output_type": "stream",
          "name": "stderr",
          "text": [
            "Epoch 5: 100%|██████████| 390/390 [00:06<00:00, 60.99batch/s, accuracy=80.5, loss=0.423]\n"
          ]
        },
        {
          "output_type": "stream",
          "name": "stdout",
          "text": [
            "===> Epoch 5 Complete: Avg. Loss: 0.4230, Validation Accuracy: 81.60%\n",
            "Validation accuracy improved, saving model...\n",
            "\n"
          ]
        },
        {
          "output_type": "stream",
          "name": "stderr",
          "text": [
            "Epoch 6: 100%|██████████| 390/390 [00:06<00:00, 62.21batch/s, accuracy=81.7, loss=0.399]\n"
          ]
        },
        {
          "output_type": "stream",
          "name": "stdout",
          "text": [
            "===> Epoch 6 Complete: Avg. Loss: 0.3994, Validation Accuracy: 82.30%\n",
            "Validation accuracy improved, saving model...\n",
            "\n"
          ]
        },
        {
          "output_type": "stream",
          "name": "stderr",
          "text": [
            "Epoch 7: 100%|██████████| 390/390 [00:06<00:00, 62.18batch/s, accuracy=83, loss=0.382]\n"
          ]
        },
        {
          "output_type": "stream",
          "name": "stdout",
          "text": [
            "===> Epoch 7 Complete: Avg. Loss: 0.3816, Validation Accuracy: 82.72%\n",
            "Validation accuracy improved, saving model...\n",
            "\n"
          ]
        },
        {
          "output_type": "stream",
          "name": "stderr",
          "text": [
            "Epoch 8: 100%|██████████| 390/390 [00:06<00:00, 62.05batch/s, accuracy=84.1, loss=0.363]\n"
          ]
        },
        {
          "output_type": "stream",
          "name": "stdout",
          "text": [
            "===> Epoch 8 Complete: Avg. Loss: 0.3630, Validation Accuracy: 83.57%\n",
            "Validation accuracy improved, saving model...\n",
            "\n"
          ]
        },
        {
          "output_type": "stream",
          "name": "stderr",
          "text": [
            "Epoch 9: 100%|██████████| 390/390 [00:06<00:00, 62.32batch/s, accuracy=85.1, loss=0.344]\n"
          ]
        },
        {
          "output_type": "stream",
          "name": "stdout",
          "text": [
            "===> Epoch 9 Complete: Avg. Loss: 0.3444, Validation Accuracy: 84.04%\n",
            "Validation accuracy improved, saving model...\n",
            "\n"
          ]
        },
        {
          "output_type": "stream",
          "name": "stderr",
          "text": [
            "Epoch 10: 100%|██████████| 390/390 [00:06<00:00, 61.52batch/s, accuracy=86, loss=0.328]\n"
          ]
        },
        {
          "output_type": "stream",
          "name": "stdout",
          "text": [
            "===> Epoch 10 Complete: Avg. Loss: 0.3277, Validation Accuracy: 83.39%\n"
          ]
        },
        {
          "output_type": "stream",
          "name": "stderr",
          "text": [
            "Epoch 11: 100%|██████████| 390/390 [00:06<00:00, 62.05batch/s, accuracy=86.5, loss=0.318]\n"
          ]
        },
        {
          "output_type": "stream",
          "name": "stdout",
          "text": [
            "===> Epoch 11 Complete: Avg. Loss: 0.3176, Validation Accuracy: 83.84%\n",
            "Validation accuracy did not improve for 2 epochs, stopping training...\n"
          ]
        },
        {
          "output_type": "stream",
          "name": "stderr",
          "text": [
            "Epoch 12: 100%|██████████| 390/390 [00:06<00:00, 61.79batch/s, accuracy=87.1, loss=0.306]\n"
          ]
        },
        {
          "output_type": "stream",
          "name": "stdout",
          "text": [
            "===> Epoch 12 Complete: Avg. Loss: 0.3062, Validation Accuracy: 84.33%\n",
            "Validation accuracy improved, saving model...\n",
            "\n"
          ]
        },
        {
          "output_type": "stream",
          "name": "stderr",
          "text": [
            "Epoch 13: 100%|██████████| 390/390 [00:06<00:00, 62.33batch/s, accuracy=87.9, loss=0.292]\n"
          ]
        },
        {
          "output_type": "stream",
          "name": "stdout",
          "text": [
            "===> Epoch 13 Complete: Avg. Loss: 0.2921, Validation Accuracy: 84.82%\n",
            "Validation accuracy improved, saving model...\n",
            "\n"
          ]
        },
        {
          "output_type": "stream",
          "name": "stderr",
          "text": [
            "Epoch 14: 100%|██████████| 390/390 [00:06<00:00, 61.55batch/s, accuracy=88.6, loss=0.278]\n"
          ]
        },
        {
          "output_type": "stream",
          "name": "stdout",
          "text": [
            "===> Epoch 14 Complete: Avg. Loss: 0.2779, Validation Accuracy: 84.87%\n",
            "Validation accuracy improved, saving model...\n",
            "\n"
          ]
        },
        {
          "output_type": "stream",
          "name": "stderr",
          "text": [
            "Epoch 15: 100%|██████████| 390/390 [00:06<00:00, 61.92batch/s, accuracy=88.5, loss=0.275]\n"
          ]
        },
        {
          "output_type": "stream",
          "name": "stdout",
          "text": [
            "===> Epoch 15 Complete: Avg. Loss: 0.2752, Validation Accuracy: 84.94%\n",
            "Validation accuracy improved, saving model...\n",
            "\n",
            "Loading best checkpoint...\n",
            "done.\n"
          ]
        }
      ],
      "source": [
        "from tqdm import tqdm\n",
        "\n",
        "model = HAN(input_size, n_units, index_to_word).to(device)\n",
        "model = model.double()\n",
        "lr = 0.001  # learning rate\n",
        "criterion = nn.functional.binary_cross_entropy# fill the gap, use Binary cross entropy from torch.nn: https://pytorch.org/docs/stable/nn.html#loss-functions\n",
        "optimizer = torch.optim.Adam(model.parameters(), lr=lr) #fill me\n",
        "\n",
        "def train(x_train=my_docs_array_train,\n",
        "          y_train=my_labels_array_train,\n",
        "          x_test=my_docs_array_test,\n",
        "          y_test=my_labels_array_test,\n",
        "          word_dict=index_to_word,\n",
        "          batch_size=batch_size):\n",
        "  \n",
        "    train_data = get_loader(x_train, y_train, batch_size)\n",
        "    test_data = get_loader(my_docs_array_test, my_labels_array_test, batch_size)\n",
        "\n",
        "    best_validation_acc = 0.0\n",
        "    p = 0 # patience\n",
        "\n",
        "    for epoch in range(1, nb_epochs + 1): \n",
        "        losses = []\n",
        "        accuracies = []\n",
        "        with tqdm(train_data, unit=\"batch\") as tepoch:\n",
        "            for idx, data in enumerate(tepoch):\n",
        "                tepoch.set_description(f\"Epoch {epoch}\")\n",
        "                model.train()\n",
        "                optimizer.zero_grad()\n",
        "                input = data['document'].to(device)\n",
        "                label = data['label'].to(device)\n",
        "                label = label.double()\n",
        "                output = model.forward(input)[0]\n",
        "                output = output[:, -1]\n",
        "                loss = criterion(output, label)# fill the gap # compute the loss\n",
        "                loss.backward()\n",
        "                torch.nn.utils.clip_grad_norm_(model.parameters(), 0.5) # prevent exploding gradient \n",
        "                optimizer.step()\n",
        "                losses.append(loss.item())\n",
        "                accuracy = torch.sum(torch.round(output) == label).item() / batch_size\n",
        "                accuracies.append(accuracy)\n",
        "                tepoch.set_postfix(loss=sum(losses)/len(losses), accuracy=100*sum(accuracies)/len(accuracies))\n",
        "\n",
        "                #tensorboard\n",
        "                writer.add_scalar(\"Loss/train\", loss, epoch)\n",
        "\n",
        "        # train_acc = evaluate_accuracy(train_data, False)\n",
        "        test_acc = evaluate_accuracy(test_data, False)\n",
        "        print(\"===> Epoch {} Complete: Avg. Loss: {:.4f}, Validation Accuracy: {:3.2f}%\"\n",
        "              .format(epoch, sum(losses)/len(losses), 100.*test_acc))\n",
        "        if test_acc >= best_validation_acc:\n",
        "            best_validation_acc = test_acc\n",
        "            print(\"Validation accuracy improved, saving model...\")\n",
        "            torch.save(model.state_dict(), './best_model.pt')\n",
        "            p = 0\n",
        "            print()\n",
        "        else:\n",
        "            p += 1\n",
        "            if p==my_patience:\n",
        "                print(\"Validation accuracy did not improve for {} epochs, stopping training...\".format(my_patience))\n",
        "    print(\"Loading best checkpoint...\")    \n",
        "    model.load_state_dict(torch.load('./best_model.pt'))\n",
        "    model.eval()\n",
        "    print('done.')\n",
        "\n",
        "train()\n",
        "\n",
        "#tensorboard\n",
        "writer.flush()\n",
        "writer.close()"
      ]
    },
    {
      "cell_type": "markdown",
      "metadata": {
        "id": "Dvyr8B5QHlst"
      },
      "source": [
        "### = = = = = Extraction of Attention Coefficients = = = = =\n",
        "In this section, we will extract and display the attention coefficients on two levels: sentence level and word level. To do so, we will extract the corresponding weights from our model.\n",
        "#### <b>Task 3:</b>"
      ]
    },
    {
      "cell_type": "code",
      "execution_count": 8,
      "metadata": {
        "id": "UVr8cS4MHlst"
      },
      "outputs": [],
      "source": [
        "# select last review:\n",
        "my_review = my_docs_array_test[-1:,:,:]\n",
        " \n",
        "# convert integer review to text:\n",
        "index_to_word[1] = 'OOV'\n",
        "my_review_text = [[index_to_word[idx] for idx in sent if idx in index_to_word] for sent in my_review.tolist()[0]]"
      ]
    },
    {
      "cell_type": "markdown",
      "metadata": {
        "id": "wHDJ7JiqHlsu"
      },
      "source": [
        "###   &emsp;&emsp;  = = = = = Attention Over Sentences in the Document = = = = ="
      ]
    },
    {
      "cell_type": "code",
      "execution_count": 9,
      "metadata": {
        "id": "yooWg3kkHlsu",
        "colab": {
          "base_uri": "https://localhost:8080/"
        },
        "outputId": "40da005e-12bd-40b6-dc6f-23a230063b65"
      },
      "outputs": [
        {
          "output_type": "stream",
          "name": "stdout",
          "text": [
            "7.56 There 's a sign on The Lost Highway that says : OOV SPOILERS OOV ( but you already knew that , did n't you ? )\n",
            "9.43 Since there 's a great deal of people that apparently did not get the point of this movie , I 'd like to contribute my interpretation of why the plot\n",
            "8.96 As others have pointed out , one single viewing of this movie is not sufficient .\n",
            "19.63 If you have the DVD of MD , you can OOV ' by looking at David Lynch 's 'Top 10 OOV to OOV MD ' ( but only upon second\n",
            "17.66 ; ) First of all , Mulholland Drive is downright brilliant .\n",
            "21.24 A masterpiece .\n",
            "15.51 This is the kind of movie that refuse to leave your head .\n"
          ]
        }
      ],
      "source": [
        "sent_coeffs = model(torch.tensor(my_review, dtype=torch.int, device=device))[2] # fill the gap # get sentence attention coeffs by passing the review to the model - (you need to convert the inout torch tensor)\n",
        "sent_coeffs = sent_coeffs[0,:,:]\n",
        "\n",
        "for elt in zip(sent_coeffs[:,0].tolist(),[' '.join(elt) for elt in my_review_text]):\n",
        "    print(round(elt[0]*100,2),elt[1])"
      ]
    },
    {
      "cell_type": "markdown",
      "metadata": {
        "id": "rII-DNrKHlsu"
      },
      "source": [
        "### &emsp;&emsp; = = = = = Attention Over Words in Each Sentence = = = = ="
      ]
    },
    {
      "cell_type": "code",
      "execution_count": null,
      "metadata": {
        "id": "JyFjAga6Hlsu"
      },
      "outputs": [],
      "source": [
        "word_coeffs = model(torch.tensor(my_review, dtype=torch.int, device=device))[1]# fill the gap # get words attention coeffs by passing the review to the model - (you need to convert the inout torch tensor)\n",
        "\n",
        "word_coeffs_list = word_coeffs.reshape(7,30).tolist()\n",
        "\n",
        "# match text and coefficients:\n",
        "text_word_coeffs = [list(zip(words,word_coeffs_list[idx][:len(words)])) for idx,words in enumerate(my_review_text)]\n",
        "\n",
        "for sent in text_word_coeffs:\n",
        "    [print(elt) for elt in sent]\n",
        "    print('= = = =')\n",
        "\n",
        "# sort words by importance within each sentence:\n",
        "text_word_coeffs_sorted = [sorted(elt,key=operator.itemgetter(1),reverse=True) for elt in text_word_coeffs]\n",
        "\n",
        "for sent in text_word_coeffs_sorted:\n",
        "    [print(elt) for elt in sent]\n",
        "    print('= = = =')"
      ]
    },
    {
      "cell_type": "code",
      "source": [
        "colors = [\"#ffffff\",\"#fbe2e2\",\"#f8c6c6\",\"#f5aaaa\",\"#f28d8d\",\"#ef7171\",\"#ec5555\",\"#e93838\",\"#e61c1c\",\"#e30000\"]\n",
        "colors_green = [\"#ffffff\",\"#e2ede3\",\"#c6dbc8\",\"#aac9ad\",\"#8db792\",\"#71a577\",\"#55935c\",\"#388141\",\"#1c6f26\",\"#005e0b\"]\n",
        "res_colors = [\"#0013ff\",\"#3817c8\",\"#711c92\",\"#aa205b\",\"#e32525\"]\n",
        "res_str = ['Very Negative', 'Negative', 'Neutral', 'Positive', 'Very Positive']\n",
        "html_code = ''\n",
        "\n",
        "import colored\n",
        "for i in range(len(text_word_coeffs)):\n",
        "    for x in text_word_coeffs[i]:\n",
        "        word, coeff = x\n",
        "        html_code += '<span style=\"background-color: %s\"> %s </span>' % (colors[min(int(coeff*80), 9)], word)\n",
        "    html_code += '<br>\\n'\n",
        "print(html_code)"
      ],
      "metadata": {
        "colab": {
          "base_uri": "https://localhost:8080/"
        },
        "id": "mr9Dd8NEu48k",
        "outputId": "525e8889-94c8-4d82-bc02-262c9eb1042f"
      },
      "execution_count": 26,
      "outputs": [
        {
          "output_type": "stream",
          "name": "stdout",
          "text": [
            "<span style=\"background-color: #f5aaaa\"> There </span><span style=\"background-color: #f5aaaa\"> 's </span><span style=\"background-color: #f28d8d\"> a </span><span style=\"background-color: #ef7171\"> sign </span><span style=\"background-color: #f5aaaa\"> on </span><span style=\"background-color: #f5aaaa\"> The </span><span style=\"background-color: #ef7171\"> Lost </span><span style=\"background-color: #f5aaaa\"> Highway </span><span style=\"background-color: #f5aaaa\"> that </span><span style=\"background-color: #f8c6c6\"> says </span><span style=\"background-color: #fbe2e2\"> : </span><span style=\"background-color: #fbe2e2\"> OOV </span><span style=\"background-color: #fbe2e2\"> SPOILERS </span><span style=\"background-color: #fbe2e2\"> OOV </span><span style=\"background-color: #fbe2e2\"> ( </span><span style=\"background-color: #f8c6c6\"> but </span><span style=\"background-color: #f8c6c6\"> you </span><span style=\"background-color: #f8c6c6\"> already </span><span style=\"background-color: #f8c6c6\"> knew </span><span style=\"background-color: #f8c6c6\"> that </span><span style=\"background-color: #fbe2e2\"> , </span><span style=\"background-color: #fbe2e2\"> did </span><span style=\"background-color: #fbe2e2\"> n't </span><span style=\"background-color: #f8c6c6\"> you </span><span style=\"background-color: #f8c6c6\"> ? </span><span style=\"background-color: #f8c6c6\"> ) </span><br>\n",
            "<span style=\"background-color: #f28d8d\"> Since </span><span style=\"background-color: #f28d8d\"> there </span><span style=\"background-color: #f5aaaa\"> 's </span><span style=\"background-color: #ef7171\"> a </span><span style=\"background-color: #e30000\"> great </span><span style=\"background-color: #f8c6c6\"> deal </span><span style=\"background-color: #fbe2e2\"> of </span><span style=\"background-color: #fbe2e2\"> people </span><span style=\"background-color: #fbe2e2\"> that </span><span style=\"background-color: #fbe2e2\"> apparently </span><span style=\"background-color: #fbe2e2\"> did </span><span style=\"background-color: #fbe2e2\"> not </span><span style=\"background-color: #fbe2e2\"> get </span><span style=\"background-color: #fbe2e2\"> the </span><span style=\"background-color: #fbe2e2\"> point </span><span style=\"background-color: #fbe2e2\"> of </span><span style=\"background-color: #f8c6c6\"> this </span><span style=\"background-color: #f8c6c6\"> movie </span><span style=\"background-color: #f8c6c6\"> , </span><span style=\"background-color: #f5aaaa\"> I </span><span style=\"background-color: #f5aaaa\"> 'd </span><span style=\"background-color: #f5aaaa\"> like </span><span style=\"background-color: #f8c6c6\"> to </span><span style=\"background-color: #f5aaaa\"> contribute </span><span style=\"background-color: #f5aaaa\"> my </span><span style=\"background-color: #f8c6c6\"> interpretation </span><span style=\"background-color: #fbe2e2\"> of </span><span style=\"background-color: #fbe2e2\"> why </span><span style=\"background-color: #fbe2e2\"> the </span><span style=\"background-color: #f8c6c6\"> plot </span><br>\n",
            "<span style=\"background-color: #f5aaaa\"> As </span><span style=\"background-color: #f28d8d\"> others </span><span style=\"background-color: #f8c6c6\"> have </span><span style=\"background-color: #f8c6c6\"> pointed </span><span style=\"background-color: #fbe2e2\"> out </span><span style=\"background-color: #fbe2e2\"> , </span><span style=\"background-color: #f8c6c6\"> one </span><span style=\"background-color: #fbe2e2\"> single </span><span style=\"background-color: #f8c6c6\"> viewing </span><span style=\"background-color: #f8c6c6\"> of </span><span style=\"background-color: #f28d8d\"> this </span><span style=\"background-color: #f5aaaa\"> movie </span><span style=\"background-color: #f5aaaa\"> is </span><span style=\"background-color: #f5aaaa\"> not </span><span style=\"background-color: #f28d8d\"> sufficient </span><span style=\"background-color: #f5aaaa\"> . </span><br>\n",
            "<span style=\"background-color: #f8c6c6\"> If </span><span style=\"background-color: #f8c6c6\"> you </span><span style=\"background-color: #f8c6c6\"> have </span><span style=\"background-color: #fbe2e2\"> the </span><span style=\"background-color: #f8c6c6\"> DVD </span><span style=\"background-color: #f8c6c6\"> of </span><span style=\"background-color: #f8c6c6\"> MD </span><span style=\"background-color: #f8c6c6\"> , </span><span style=\"background-color: #f8c6c6\"> you </span><span style=\"background-color: #f8c6c6\"> can </span><span style=\"background-color: #f8c6c6\"> OOV </span><span style=\"background-color: #f8c6c6\"> ' </span><span style=\"background-color: #f8c6c6\"> by </span><span style=\"background-color: #f8c6c6\"> looking </span><span style=\"background-color: #f8c6c6\"> at </span><span style=\"background-color: #f8c6c6\"> David </span><span style=\"background-color: #f8c6c6\"> Lynch </span><span style=\"background-color: #f8c6c6\"> 's </span><span style=\"background-color: #f8c6c6\"> 'Top </span><span style=\"background-color: #f8c6c6\"> 10 </span><span style=\"background-color: #f8c6c6\"> OOV </span><span style=\"background-color: #f5aaaa\"> to </span><span style=\"background-color: #f5aaaa\"> OOV </span><span style=\"background-color: #ef7171\"> MD </span><span style=\"background-color: #f8c6c6\"> ' </span><span style=\"background-color: #fbe2e2\"> ( </span><span style=\"background-color: #f8c6c6\"> but </span><span style=\"background-color: #f5aaaa\"> only </span><span style=\"background-color: #f28d8d\"> upon </span><span style=\"background-color: #f5aaaa\"> second </span><br>\n",
            "<span style=\"background-color: #f8c6c6\"> ; </span><span style=\"background-color: #f8c6c6\"> ) </span><span style=\"background-color: #f8c6c6\"> First </span><span style=\"background-color: #f8c6c6\"> of </span><span style=\"background-color: #f8c6c6\"> all </span><span style=\"background-color: #f8c6c6\"> , </span><span style=\"background-color: #f8c6c6\"> Mulholland </span><span style=\"background-color: #f8c6c6\"> Drive </span><span style=\"background-color: #fbe2e2\"> is </span><span style=\"background-color: #f28d8d\"> downright </span><span style=\"background-color: #e30000\"> brilliant </span><span style=\"background-color: #ef7171\"> . </span><br>\n",
            "<span style=\"background-color: #e61c1c\"> A </span><span style=\"background-color: #e30000\"> masterpiece </span><span style=\"background-color: #ef7171\"> . </span><br>\n",
            "<span style=\"background-color: #f8c6c6\"> This </span><span style=\"background-color: #f8c6c6\"> is </span><span style=\"background-color: #f5aaaa\"> the </span><span style=\"background-color: #ef7171\"> kind </span><span style=\"background-color: #f5aaaa\"> of </span><span style=\"background-color: #f5aaaa\"> movie </span><span style=\"background-color: #f28d8d\"> that </span><span style=\"background-color: #f5aaaa\"> refuse </span><span style=\"background-color: #f8c6c6\"> to </span><span style=\"background-color: #f5aaaa\"> leave </span><span style=\"background-color: #f5aaaa\"> your </span><span style=\"background-color: #f5aaaa\"> head </span><span style=\"background-color: #f5aaaa\"> . </span><br>\n",
            "\n"
          ]
        }
      ]
    }
  ],
  "metadata": {
    "colab": {
      "collapsed_sections": [],
      "provenance": []
    },
    "kernelspec": {
      "display_name": "Python 3.9.10 64-bit",
      "language": "python",
      "name": "python3"
    },
    "language_info": {
      "codemirror_mode": {
        "name": "ipython",
        "version": 3
      },
      "file_extension": ".py",
      "mimetype": "text/x-python",
      "name": "python",
      "nbconvert_exporter": "python",
      "pygments_lexer": "ipython3",
      "version": "3.9.10"
    },
    "vscode": {
      "interpreter": {
        "hash": "b0fa6594d8f4cbf19f97940f81e996739fb7646882a419484c72d19e05852a7e"
      }
    },
    "gpuClass": "premium",
    "accelerator": "GPU"
  },
  "nbformat": 4,
  "nbformat_minor": 0
}